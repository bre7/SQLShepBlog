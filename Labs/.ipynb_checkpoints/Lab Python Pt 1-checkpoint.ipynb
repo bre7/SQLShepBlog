{
 "cells": [
  {
   "cell_type": "markdown",
   "metadata": {},
   "source": [
    "# Python Lab Part 1"
   ]
  },
  {
   "cell_type": "markdown",
   "metadata": {},
   "source": [
    "### Getting Started with Print"
   ]
  },
  {
   "cell_type": "code",
   "execution_count": 1,
   "metadata": {},
   "outputs": [
    {
     "name": "stdout",
     "output_type": "stream",
     "text": [
      "Hello Python\n"
     ]
    }
   ],
   "source": [
    "print(\"Hello Python\")"
   ]
  },
  {
   "cell_type": "code",
   "execution_count": 4,
   "metadata": {},
   "outputs": [
    {
     "data": {
      "text/html": [
       "<style scoped>\n",
       "  .ansiout {\n",
       "    display: block;\n",
       "    unicode-bidi: embed;\n",
       "    white-space: pre-wrap;\n",
       "    word-wrap: break-word;\n",
       "    word-break: break-all;\n",
       "    font-family: \"Source Code Pro\", \"Menlo\", monospace;;\n",
       "    font-size: 13px;\n",
       "    color: #555;\n",
       "    margin-left: 4px;\n",
       "    line-height: 19px;\n",
       "  }\n",
       "</style>\n",
       "<div class=\"ansiout\">3.0\n",
       "</div>"
      ]
     },
     "metadata": {},
     "output_type": "display_data"
    }
   ],
   "source": [
    "print(9/3)"
   ]
  },
  {
   "cell_type": "code",
   "execution_count": 5,
   "metadata": {},
   "outputs": [
    {
     "data": {
      "text/html": [
       "<style scoped>\n",
       "  .ansiout {\n",
       "    display: block;\n",
       "    unicode-bidi: embed;\n",
       "    white-space: pre-wrap;\n",
       "    word-wrap: break-word;\n",
       "    word-break: break-all;\n",
       "    font-family: \"Source Code Pro\", \"Menlo\", monospace;;\n",
       "    font-size: 13px;\n",
       "    color: #555;\n",
       "    margin-left: 4px;\n",
       "    line-height: 19px;\n",
       "  }\n",
       "</style>\n",
       "<div class=\"ansiout\">Results of the 2019 Indy 500\n",
       "</div>"
      ]
     },
     "metadata": {},
     "output_type": "display_data"
    }
   ],
   "source": [
    "\n",
    "x = '2019'\n",
    "y = 'Indy 500'\n",
    "\n",
    "print(\"Results of the {0} {1}\".format(x,y))"
   ]
  },
  {
   "cell_type": "code",
   "execution_count": 6,
   "metadata": {},
   "outputs": [
    {
     "data": {
      "text/html": [
       "<style scoped>\n",
       "  .ansiout {\n",
       "    display: block;\n",
       "    unicode-bidi: embed;\n",
       "    white-space: pre-wrap;\n",
       "    word-wrap: break-word;\n",
       "    word-break: break-all;\n",
       "    font-family: \"Source Code Pro\", \"Menlo\", monospace;;\n",
       "    font-size: 13px;\n",
       "    color: #555;\n",
       "    margin-left: 4px;\n",
       "    line-height: 19px;\n",
       "  }\n",
       "</style>\n",
       "<div class=\"ansiout\"><span class=\"ansicyan\">  File </span><span class=\"ansigreen\">&quot;&lt;command-708371272747165&gt;&quot;</span><span class=\"ansicyan\">, line </span><span class=\"ansigreen\">1</span>\n",
       "<span class=\"ansiyellow\">    print(f&apos;Results of the {x} {y}&apos;)</span>\n",
       "<span class=\"ansigrey\">                                  ^</span>\n",
       "<span class=\"ansired\">SyntaxError</span><span class=\"ansired\">:</span> invalid syntax\n",
       "</div>"
      ]
     },
     "metadata": {},
     "output_type": "display_data"
    }
   ],
   "source": [
    "# this works in base python...\n",
    "print(f'Results of the {x} {y}')"
   ]
  },
  {
   "cell_type": "code",
   "execution_count": 7,
   "metadata": {},
   "outputs": [
    {
     "data": {
      "text/html": [
       "<style scoped>\n",
       "  .ansiout {\n",
       "    display: block;\n",
       "    unicode-bidi: embed;\n",
       "    white-space: pre-wrap;\n",
       "    word-wrap: break-word;\n",
       "    word-break: break-all;\n",
       "    font-family: \"Source Code Pro\", \"Menlo\", monospace;;\n",
       "    font-size: 13px;\n",
       "    color: #555;\n",
       "    margin-left: 4px;\n",
       "    line-height: 19px;\n",
       "  }\n",
       "</style>\n",
       "<div class=\"ansiout\">Results of the 2019 Indy 500\n",
       "</div>"
      ]
     },
     "metadata": {},
     "output_type": "display_data"
    }
   ],
   "source": [
    "print('Results of the {} {}'.format(x,y))"
   ]
  },
  {
   "cell_type": "code",
   "execution_count": 8,
   "metadata": {},
   "outputs": [
    {
     "data": {
      "text/html": [
       "<style scoped>\n",
       "  .ansiout {\n",
       "    display: block;\n",
       "    unicode-bidi: embed;\n",
       "    white-space: pre-wrap;\n",
       "    word-wrap: break-word;\n",
       "    word-break: break-all;\n",
       "    font-family: \"Source Code Pro\", \"Menlo\", monospace;;\n",
       "    font-size: 13px;\n",
       "    color: #555;\n",
       "    margin-left: 4px;\n",
       "    line-height: 19px;\n",
       "  }\n",
       "</style>\n",
       "<div class=\"ansiout\">42,572,654 YES votes  49.67%\n",
       "</div>"
      ]
     },
     "metadata": {},
     "output_type": "display_data"
    }
   ],
   "source": [
    "yes_votes = 42572654\n",
    "no_votes = 43132495\n",
    "\n",
    "percentage = yes_votes / (yes_votes + no_votes)\n",
    "\n",
    "print('{:,} YES votes  {:2.2%}'.format(yes_votes, percentage))"
   ]
  },
  {
   "cell_type": "markdown",
   "metadata": {},
   "source": [
    "### Types"
   ]
  },
  {
   "cell_type": "markdown",
   "metadata": {},
   "source": [
    "#### Boolean"
   ]
  },
  {
   "cell_type": "code",
   "execution_count": 11,
   "metadata": {},
   "outputs": [
    {
     "data": {
      "text/html": [
       "<style scoped>\n",
       "  .ansiout {\n",
       "    display: block;\n",
       "    unicode-bidi: embed;\n",
       "    white-space: pre-wrap;\n",
       "    word-wrap: break-word;\n",
       "    word-break: break-all;\n",
       "    font-family: \"Source Code Pro\", \"Menlo\", monospace;;\n",
       "    font-size: 13px;\n",
       "    color: #555;\n",
       "    margin-left: 4px;\n",
       "    line-height: 19px;\n",
       "  }\n",
       "</style>\n",
       "<div class=\"ansiout\">They do not Equal\n",
       "&lt;class &apos;bool&apos;&gt;\n",
       "</div>"
      ]
     },
     "metadata": {},
     "output_type": "display_data"
    }
   ],
   "source": [
    "myBool = True\n",
    "myOtherBool = False\n",
    "\n",
    "if (myBool == myOtherBool):\n",
    "    print(\"They Equal\")\n",
    "else: \n",
    "    print(\"They do not Equal\")\n",
    "        \n",
    "\n",
    "print(type(myBool))"
   ]
  },
  {
   "cell_type": "code",
   "execution_count": 12,
   "metadata": {},
   "outputs": [
    {
     "data": {
      "text/html": [
       "<style scoped>\n",
       "  .ansiout {\n",
       "    display: block;\n",
       "    unicode-bidi: embed;\n",
       "    white-space: pre-wrap;\n",
       "    word-wrap: break-word;\n",
       "    word-break: break-all;\n",
       "    font-family: \"Source Code Pro\", \"Menlo\", monospace;;\n",
       "    font-size: 13px;\n",
       "    color: #555;\n",
       "    margin-left: 4px;\n",
       "    line-height: 19px;\n",
       "  }\n",
       "</style>\n",
       "<div class=\"ansiout\">myInt is less than myOtherInt with 99\n",
       "</div>"
      ]
     },
     "metadata": {},
     "output_type": "display_data"
    }
   ],
   "source": [
    "myInt = 99\n",
    "myOtherInt = 999\n",
    "\n",
    "if (myInt <= myOtherInt):\n",
    "    print(\"myInt is less than myOtherInt with {}\".format(myInt) )"
   ]
  },
  {
   "cell_type": "markdown",
   "metadata": {},
   "source": [
    "#### Numeric Types"
   ]
  },
  {
   "cell_type": "code",
   "execution_count": 14,
   "metadata": {},
   "outputs": [
    {
     "data": {
      "text/html": [
       "<style scoped>\n",
       "  .ansiout {\n",
       "    display: block;\n",
       "    unicode-bidi: embed;\n",
       "    white-space: pre-wrap;\n",
       "    word-wrap: break-word;\n",
       "    word-break: break-all;\n",
       "    font-family: \"Source Code Pro\", \"Menlo\", monospace;;\n",
       "    font-size: 13px;\n",
       "    color: #555;\n",
       "    margin-left: 4px;\n",
       "    line-height: 19px;\n",
       "  }\n",
       "</style>\n",
       "<div class=\"ansiout\"><span class=\"ansired\">Out[</span><span class=\"ansired\">50</span><span class=\"ansired\">]: </span>12.375\n",
       "</div>"
      ]
     },
     "metadata": {},
     "output_type": "display_data"
    }
   ],
   "source": [
    "#Division\n",
    "99 / 8\n"
   ]
  },
  {
   "cell_type": "code",
   "execution_count": 15,
   "metadata": {},
   "outputs": [
    {
     "data": {
      "text/html": [
       "<style scoped>\n",
       "  .ansiout {\n",
       "    display: block;\n",
       "    unicode-bidi: embed;\n",
       "    white-space: pre-wrap;\n",
       "    word-wrap: break-word;\n",
       "    word-break: break-all;\n",
       "    font-family: \"Source Code Pro\", \"Menlo\", monospace;;\n",
       "    font-size: 13px;\n",
       "    color: #555;\n",
       "    margin-left: 4px;\n",
       "    line-height: 19px;\n",
       "  }\n",
       "</style>\n",
       "<div class=\"ansiout\"><span class=\"ansired\">Out[</span><span class=\"ansired\">51</span><span class=\"ansired\">]: </span>12\n",
       "</div>"
      ]
     },
     "metadata": {},
     "output_type": "display_data"
    }
   ],
   "source": [
    "#Floor Division\n",
    "99 // 8"
   ]
  },
  {
   "cell_type": "code",
   "execution_count": 16,
   "metadata": {},
   "outputs": [
    {
     "data": {
      "text/html": [
       "<style scoped>\n",
       "  .ansiout {\n",
       "    display: block;\n",
       "    unicode-bidi: embed;\n",
       "    white-space: pre-wrap;\n",
       "    word-wrap: break-word;\n",
       "    word-break: break-all;\n",
       "    font-family: \"Source Code Pro\", \"Menlo\", monospace;;\n",
       "    font-size: 13px;\n",
       "    color: #555;\n",
       "    margin-left: 4px;\n",
       "    line-height: 19px;\n",
       "  }\n",
       "</style>\n",
       "<div class=\"ansiout\"><span class=\"ansired\">Out[</span><span class=\"ansired\">52</span><span class=\"ansired\">]: </span>3\n",
       "</div>"
      ]
     },
     "metadata": {},
     "output_type": "display_data"
    }
   ],
   "source": [
    "# Remainder, Modulo\n",
    "99 % 8"
   ]
  },
  {
   "cell_type": "code",
   "execution_count": 17,
   "metadata": {},
   "outputs": [
    {
     "data": {
      "text/html": [
       "<style scoped>\n",
       "  .ansiout {\n",
       "    display: block;\n",
       "    unicode-bidi: embed;\n",
       "    white-space: pre-wrap;\n",
       "    word-wrap: break-word;\n",
       "    word-break: break-all;\n",
       "    font-family: \"Source Code Pro\", \"Menlo\", monospace;;\n",
       "    font-size: 13px;\n",
       "    color: #555;\n",
       "    margin-left: 4px;\n",
       "    line-height: 19px;\n",
       "  }\n",
       "</style>\n",
       "<div class=\"ansiout\"><span class=\"ansired\">Out[</span><span class=\"ansired\">53</span><span class=\"ansired\">]: </span>4500\n",
       "</div>"
      ]
     },
     "metadata": {},
     "output_type": "display_data"
    }
   ],
   "source": [
    "# Absolute value\n",
    "abs(-4500)"
   ]
  },
  {
   "cell_type": "code",
   "execution_count": 18,
   "metadata": {},
   "outputs": [
    {
     "data": {
      "text/html": [
       "<style scoped>\n",
       "  .ansiout {\n",
       "    display: block;\n",
       "    unicode-bidi: embed;\n",
       "    white-space: pre-wrap;\n",
       "    word-wrap: break-word;\n",
       "    word-break: break-all;\n",
       "    font-family: \"Source Code Pro\", \"Menlo\", monospace;;\n",
       "    font-size: 13px;\n",
       "    color: #555;\n",
       "    margin-left: 4px;\n",
       "    line-height: 19px;\n",
       "  }\n",
       "</style>\n",
       "<div class=\"ansiout\"><span class=\"ansired\">Out[</span><span class=\"ansired\">54</span><span class=\"ansired\">]: </span>(12, 3)\n",
       "</div>"
      ]
     },
     "metadata": {},
     "output_type": "display_data"
    }
   ],
   "source": [
    "#divmod\n",
    "divmod(99,8)"
   ]
  },
  {
   "cell_type": "code",
   "execution_count": 19,
   "metadata": {},
   "outputs": [
    {
     "data": {
      "text/html": [
       "<style scoped>\n",
       "  .ansiout {\n",
       "    display: block;\n",
       "    unicode-bidi: embed;\n",
       "    white-space: pre-wrap;\n",
       "    word-wrap: break-word;\n",
       "    word-break: break-all;\n",
       "    font-family: \"Source Code Pro\", \"Menlo\", monospace;;\n",
       "    font-size: 13px;\n",
       "    color: #555;\n",
       "    margin-left: 4px;\n",
       "    line-height: 19px;\n",
       "  }\n",
       "</style>\n",
       "<div class=\"ansiout\">16\n",
       "16\n",
       "</div>"
      ]
     },
     "metadata": {},
     "output_type": "display_data"
    }
   ],
   "source": [
    "# Powers\n",
    "print(pow(2,4))\n",
    "\n",
    "print(2**4)"
   ]
  },
  {
   "cell_type": "markdown",
   "metadata": {},
   "source": [
    "## Sequence types: Lists, tuples, range"
   ]
  },
  {
   "cell_type": "code",
   "execution_count": 21,
   "metadata": {},
   "outputs": [
    {
     "data": {
      "text/html": [
       "<style scoped>\n",
       "  .ansiout {\n",
       "    display: block;\n",
       "    unicode-bidi: embed;\n",
       "    white-space: pre-wrap;\n",
       "    word-wrap: break-word;\n",
       "    word-break: break-all;\n",
       "    font-family: \"Source Code Pro\", \"Menlo\", monospace;;\n",
       "    font-size: 13px;\n",
       "    color: #555;\n",
       "    margin-left: 4px;\n",
       "    line-height: 19px;\n",
       "  }\n",
       "</style>\n",
       "<div class=\"ansiout\">&lt;class &apos;list&apos;&gt;\n",
       "</div>"
      ]
     },
     "metadata": {},
     "output_type": "display_data"
    }
   ],
   "source": [
    "\n",
    "myList = [\"One\", \"Two\", \"Three\", \"Four\",\"Five\", \"Six\", \"Seven\"]\n",
    "\n",
    "\n",
    "print(type(myList))"
   ]
  },
  {
   "cell_type": "code",
   "execution_count": 22,
   "metadata": {},
   "outputs": [
    {
     "data": {
      "text/html": [
       "<style scoped>\n",
       "  .ansiout {\n",
       "    display: block;\n",
       "    unicode-bidi: embed;\n",
       "    white-space: pre-wrap;\n",
       "    word-wrap: break-word;\n",
       "    word-break: break-all;\n",
       "    font-family: \"Source Code Pro\", \"Menlo\", monospace;;\n",
       "    font-size: 13px;\n",
       "    color: #555;\n",
       "    margin-left: 4px;\n",
       "    line-height: 19px;\n",
       "  }\n",
       "</style>\n",
       "<div class=\"ansiout\"><span class=\"ansired\">Out[</span><span class=\"ansired\">57</span><span class=\"ansired\">]: </span>&apos;Two&apos;\n",
       "</div>"
      ]
     },
     "metadata": {},
     "output_type": "display_data"
    }
   ],
   "source": [
    "\n",
    "myList = [\"One\", \"Two\", \"Three\", \"Four\",\"Five\", \"Six\", \"Seven\"]\n",
    "\n",
    "\n",
    "# Element in index 1\n",
    "myList[1]\n",
    "\n",
    "# Element starting at index 1 inclusive\n",
    "#myList[1:]\n",
    "\n",
    "# Element starting at index 0 - 3 not inclusive of 4\n",
    "#myList[:4]\n",
    "\n",
    "# Element starting at index 2 - 3 not inclusive of 4\n",
    "#myList[2:4]"
   ]
  },
  {
   "cell_type": "code",
   "execution_count": 23,
   "metadata": {},
   "outputs": [
    {
     "data": {
      "text/html": [
       "<style scoped>\n",
       "  .ansiout {\n",
       "    display: block;\n",
       "    unicode-bidi: embed;\n",
       "    white-space: pre-wrap;\n",
       "    word-wrap: break-word;\n",
       "    word-break: break-all;\n",
       "    font-family: \"Source Code Pro\", \"Menlo\", monospace;;\n",
       "    font-size: 13px;\n",
       "    color: #555;\n",
       "    margin-left: 4px;\n",
       "    line-height: 19px;\n",
       "  }\n",
       "</style>\n",
       "<div class=\"ansiout\"><span class=\"ansired\">Out[</span><span class=\"ansired\">58</span><span class=\"ansired\">]: </span>[&apos;Three&apos;, &apos;Four&apos;]\n",
       "</div>"
      ]
     },
     "metadata": {},
     "output_type": "display_data"
    }
   ],
   "source": [
    "#slice a section from myList to make my tiny list \n",
    "myTinyList = myList[2:4]\n",
    "\n",
    "\n",
    "# Lets verify what i have in memory\n",
    "myTinyList"
   ]
  },
  {
   "cell_type": "code",
   "execution_count": 24,
   "metadata": {},
   "outputs": [
    {
     "data": {
      "text/html": [
       "<style scoped>\n",
       "  .ansiout {\n",
       "    display: block;\n",
       "    unicode-bidi: embed;\n",
       "    white-space: pre-wrap;\n",
       "    word-wrap: break-word;\n",
       "    word-break: break-all;\n",
       "    font-family: \"Source Code Pro\", \"Menlo\", monospace;;\n",
       "    font-size: 13px;\n",
       "    color: #555;\n",
       "    margin-left: 4px;\n",
       "    line-height: 19px;\n",
       "  }\n",
       "</style>\n",
       "<div class=\"ansiout\"><span class=\"ansired\">Out[</span><span class=\"ansired\">59</span><span class=\"ansired\">]: </span>&apos;T&apos;\n",
       "</div>"
      ]
     },
     "metadata": {},
     "output_type": "display_data"
    }
   ],
   "source": [
    "# Look at location 0,0\n",
    "myTinyList[0][0]"
   ]
  },
  {
   "cell_type": "markdown",
   "metadata": {},
   "source": [
    "### Sort and Reverse"
   ]
  },
  {
   "cell_type": "code",
   "execution_count": 26,
   "metadata": {},
   "outputs": [
    {
     "data": {
      "text/html": [
       "<style scoped>\n",
       "  .ansiout {\n",
       "    display: block;\n",
       "    unicode-bidi: embed;\n",
       "    white-space: pre-wrap;\n",
       "    word-wrap: break-word;\n",
       "    word-break: break-all;\n",
       "    font-family: \"Source Code Pro\", \"Menlo\", monospace;;\n",
       "    font-size: 13px;\n",
       "    color: #555;\n",
       "    margin-left: 4px;\n",
       "    line-height: 19px;\n",
       "  }\n",
       "</style>\n",
       "<div class=\"ansiout\">[&apos;Five&apos;, &apos;Four&apos;, &apos;One&apos;, &apos;Seven&apos;, &apos;Six&apos;, &apos;Three&apos;, &apos;Two&apos;]\n",
       "[&apos;Two&apos;, &apos;Three&apos;, &apos;Six&apos;, &apos;Seven&apos;, &apos;One&apos;, &apos;Four&apos;, &apos;Five&apos;]\n",
       "</div>"
      ]
     },
     "metadata": {},
     "output_type": "display_data"
    }
   ],
   "source": [
    "\n",
    "myList = [\"One\", \"Two\", \"Three\", \"Four\",\"Five\", \"Six\", \"Seven\"]\n",
    "\n",
    "#Sort \n",
    "myList.sort()\n",
    "print(myList)\n",
    "\n",
    "#Reverses\n",
    "myList.reverse()\n",
    "print(myList)"
   ]
  },
  {
   "cell_type": "markdown",
   "metadata": {},
   "source": [
    "### Updating a list"
   ]
  },
  {
   "cell_type": "code",
   "execution_count": 28,
   "metadata": {},
   "outputs": [
    {
     "data": {
      "text/html": [
       "<style scoped>\n",
       "  .ansiout {\n",
       "    display: block;\n",
       "    unicode-bidi: embed;\n",
       "    white-space: pre-wrap;\n",
       "    word-wrap: break-word;\n",
       "    word-break: break-all;\n",
       "    font-family: \"Source Code Pro\", \"Menlo\", monospace;;\n",
       "    font-size: 13px;\n",
       "    color: #555;\n",
       "    margin-left: 4px;\n",
       "    line-height: 19px;\n",
       "  }\n",
       "</style>\n",
       "<div class=\"ansiout\"><span class=\"ansired\">Out[</span><span class=\"ansired\">70</span><span class=\"ansired\">]: </span>[&apos;Two&apos;, &apos;Zero&apos;, &apos;Six&apos;, &apos;Seven&apos;, &apos;One&apos;, &apos;Four&apos;, &apos;Five&apos;]\n",
       "</div>"
      ]
     },
     "metadata": {},
     "output_type": "display_data"
    }
   ],
   "source": [
    "myList[1] = \"Zero\"\n",
    "\n",
    "myList\n",
    "\n"
   ]
  },
  {
   "cell_type": "markdown",
   "metadata": {},
   "source": [
    "### Add an element to a List"
   ]
  },
  {
   "cell_type": "code",
   "execution_count": 30,
   "metadata": {},
   "outputs": [
    {
     "data": {
      "text/html": [
       "<style scoped>\n",
       "  .ansiout {\n",
       "    display: block;\n",
       "    unicode-bidi: embed;\n",
       "    white-space: pre-wrap;\n",
       "    word-wrap: break-word;\n",
       "    word-break: break-all;\n",
       "    font-family: \"Source Code Pro\", \"Menlo\", monospace;;\n",
       "    font-size: 13px;\n",
       "    color: #555;\n",
       "    margin-left: 4px;\n",
       "    line-height: 19px;\n",
       "  }\n",
       "</style>\n",
       "<div class=\"ansiout\"><span class=\"ansired\">Out[</span><span class=\"ansired\">71</span><span class=\"ansired\">]: </span>[&apos;Two&apos;, &apos;Zero&apos;, &apos;Six&apos;, &apos;Seven&apos;, &apos;One&apos;, &apos;Four&apos;, &apos;Five&apos;, &apos;Eight&apos;]\n",
       "</div>"
      ]
     },
     "metadata": {},
     "output_type": "display_data"
    }
   ],
   "source": [
    "myList.append(\"Eight\")\n",
    "\n",
    "myList"
   ]
  },
  {
   "cell_type": "code",
   "execution_count": 31,
   "metadata": {},
   "outputs": [
    {
     "data": {
      "text/html": [
       "<style scoped>\n",
       "  .ansiout {\n",
       "    display: block;\n",
       "    unicode-bidi: embed;\n",
       "    white-space: pre-wrap;\n",
       "    word-wrap: break-word;\n",
       "    word-break: break-all;\n",
       "    font-family: \"Source Code Pro\", \"Menlo\", monospace;;\n",
       "    font-size: 13px;\n",
       "    color: #555;\n",
       "    margin-left: 4px;\n",
       "    line-height: 19px;\n",
       "  }\n",
       "</style>\n",
       "<div class=\"ansiout\"><span class=\"ansired\">Out[</span><span class=\"ansired\">74</span><span class=\"ansired\">]: </span>list_iterator\n",
       "</div>"
      ]
     },
     "metadata": {},
     "output_type": "display_data"
    }
   ],
   "source": [
    "myIterList = iter(myList)\n",
    "\n",
    "type(myIterList)"
   ]
  },
  {
   "cell_type": "code",
   "execution_count": 32,
   "metadata": {},
   "outputs": [
    {
     "data": {
      "text/html": [
       "<style scoped>\n",
       "  .ansiout {\n",
       "    display: block;\n",
       "    unicode-bidi: embed;\n",
       "    white-space: pre-wrap;\n",
       "    word-wrap: break-word;\n",
       "    word-break: break-all;\n",
       "    font-family: \"Source Code Pro\", \"Menlo\", monospace;;\n",
       "    font-size: 13px;\n",
       "    color: #555;\n",
       "    margin-left: 4px;\n",
       "    line-height: 19px;\n",
       "  }\n",
       "</style>\n",
       "<div class=\"ansiout\">Two\n",
       "Zero\n",
       "Six\n",
       "Seven\n",
       "One\n",
       "Four\n",
       "Five\n",
       "Eight\n",
       "-999\n",
       "</div>"
      ]
     },
     "metadata": {},
     "output_type": "display_data"
    }
   ],
   "source": [
    "print(next(myIterList))\n",
    "print(next(myIterList))\n",
    "print(next(myIterList))\n",
    "print(next(myIterList))\n",
    "print(next(myIterList))\n",
    "print(next(myIterList))\n",
    "print(next(myIterList))\n",
    "print(next(myIterList,\"-999\"))\n",
    "print(next(myIterList,\"-999\"))\n"
   ]
  },
  {
   "cell_type": "markdown",
   "metadata": {},
   "source": [
    "2d List"
   ]
  },
  {
   "cell_type": "code",
   "execution_count": 34,
   "metadata": {},
   "outputs": [],
   "source": [
    "\n",
    "myList = [[\"One\",1], [\"Two\",2],[\"Three\",3], [\"Four\",4,], [\"Five\",5]]\n",
    "\n",
    "myList\n",
    "\n",
    "myList[1][1]"
   ]
  },
  {
   "cell_type": "markdown",
   "metadata": {},
   "source": [
    "### Removing elements from a list"
   ]
  },
  {
   "cell_type": "code",
   "execution_count": 36,
   "metadata": {},
   "outputs": [
    {
     "data": {
      "text/html": [
       "<style scoped>\n",
       "  .ansiout {\n",
       "    display: block;\n",
       "    unicode-bidi: embed;\n",
       "    white-space: pre-wrap;\n",
       "    word-wrap: break-word;\n",
       "    word-break: break-all;\n",
       "    font-family: \"Source Code Pro\", \"Menlo\", monospace;;\n",
       "    font-size: 13px;\n",
       "    color: #555;\n",
       "    margin-left: 4px;\n",
       "    line-height: 19px;\n",
       "  }\n",
       "</style>\n",
       "<div class=\"ansiout\">[&apos;One&apos;, 2, &apos;Three&apos;, 4, &apos;Five&apos;, 6, &apos;Seven&apos;]\n",
       "[&apos;One&apos;, 2, &apos;Three&apos;, 4, &apos;Five&apos;, &apos;Seven&apos;]\n",
       "[&apos;One&apos;, 2, &apos;Three&apos;, 4, &apos;Seven&apos;]\n",
       "</div>"
      ]
     },
     "metadata": {},
     "output_type": "display_data"
    }
   ],
   "source": [
    "\n",
    "myOtherList = [\"One\", 2, \"Three\", 4,\"Five\", 6, \"Seven\"]\n",
    "\n",
    "print(myOtherList)\n",
    "\n",
    "#pop 5th index element\n",
    "myOtherList.pop(5)\n",
    "\n",
    "print(myOtherList)\n",
    "\n",
    "#remove and \"Five\"\n",
    "myOtherList.remove(\"Five\")\n",
    "\n",
    "\n",
    "print(myOtherList)"
   ]
  },
  {
   "cell_type": "markdown",
   "metadata": {},
   "source": [
    "### Tuple"
   ]
  },
  {
   "cell_type": "code",
   "execution_count": 38,
   "metadata": {},
   "outputs": [
    {
     "data": {
      "text/html": [
       "<style scoped>\n",
       "  .ansiout {\n",
       "    display: block;\n",
       "    unicode-bidi: embed;\n",
       "    white-space: pre-wrap;\n",
       "    word-wrap: break-word;\n",
       "    word-break: break-all;\n",
       "    font-family: \"Source Code Pro\", \"Menlo\", monospace;;\n",
       "    font-size: 13px;\n",
       "    color: #555;\n",
       "    margin-left: 4px;\n",
       "    line-height: 19px;\n",
       "  }\n",
       "</style>\n",
       "<div class=\"ansiout\">&lt;class &apos;tuple&apos;&gt;\n",
       "</div>"
      ]
     },
     "metadata": {},
     "output_type": "display_data"
    }
   ],
   "source": [
    "myTuple = (\"One\", \"Two\", \"Three\", \"Four\",\"Five\", \"Six\", \"Seven\")\n",
    "\n",
    "print(type(myTuple))"
   ]
  },
  {
   "cell_type": "code",
   "execution_count": 39,
   "metadata": {},
   "outputs": [
    {
     "data": {
      "text/html": [
       "<style scoped>\n",
       "  .ansiout {\n",
       "    display: block;\n",
       "    unicode-bidi: embed;\n",
       "    white-space: pre-wrap;\n",
       "    word-wrap: break-word;\n",
       "    word-break: break-all;\n",
       "    font-family: \"Source Code Pro\", \"Menlo\", monospace;;\n",
       "    font-size: 13px;\n",
       "    color: #555;\n",
       "    margin-left: 4px;\n",
       "    line-height: 19px;\n",
       "  }\n",
       "</style>\n",
       "<div class=\"ansiout\">Two\n",
       "</div>"
      ]
     },
     "metadata": {},
     "output_type": "display_data"
    }
   ],
   "source": [
    "print(myTuple[1])\n",
    "\n",
    "#myTuple[1] = \"Two\""
   ]
  },
  {
   "cell_type": "code",
   "execution_count": 40,
   "metadata": {},
   "outputs": [
    {
     "data": {
      "text/html": [
       "<style scoped>\n",
       "  .ansiout {\n",
       "    display: block;\n",
       "    unicode-bidi: embed;\n",
       "    white-space: pre-wrap;\n",
       "    word-wrap: break-word;\n",
       "    word-break: break-all;\n",
       "    font-family: \"Source Code Pro\", \"Menlo\", monospace;;\n",
       "    font-size: 13px;\n",
       "    color: #555;\n",
       "    margin-left: 4px;\n",
       "    line-height: 19px;\n",
       "  }\n",
       "</style>\n",
       "<div class=\"ansiout\"><span class=\"ansired\">Out[</span><span class=\"ansired\">79</span><span class=\"ansired\">]: </span>(&apos;One&apos;, 2, &apos;Three&apos;, 4, &apos;Five&apos;, 6, &apos;Seven&apos;)\n",
       "</div>"
      ]
     },
     "metadata": {},
     "output_type": "display_data"
    }
   ],
   "source": [
    "myOtherTuple = (\"One\", 2, \"Three\", 4,\"Five\", 6, \"Seven\")\n",
    "\n",
    "myOtherTuple"
   ]
  },
  {
   "cell_type": "markdown",
   "metadata": {},
   "source": [
    "### 2D Tuple"
   ]
  },
  {
   "cell_type": "code",
   "execution_count": 42,
   "metadata": {},
   "outputs": [],
   "source": [
    "\n",
    "my2dTuple = ([\"One\",1], [\"Two\",2],[\"Three\",3], [\"Four\",4,], [\"Five\",5])\n",
    "\n",
    "my2dTuple[3][0]"
   ]
  },
  {
   "cell_type": "code",
   "execution_count": 43,
   "metadata": {},
   "outputs": [
    {
     "data": {
      "text/html": [
       "<style scoped>\n",
       "  .ansiout {\n",
       "    display: block;\n",
       "    unicode-bidi: embed;\n",
       "    white-space: pre-wrap;\n",
       "    word-wrap: break-word;\n",
       "    word-break: break-all;\n",
       "    font-family: \"Source Code Pro\", \"Menlo\", monospace;;\n",
       "    font-size: 13px;\n",
       "    color: #555;\n",
       "    margin-left: 4px;\n",
       "    line-height: 19px;\n",
       "  }\n",
       "</style>\n",
       "<div class=\"ansiout\">4\n",
       "2\n",
       "</div>"
      ]
     },
     "metadata": {},
     "output_type": "display_data"
    }
   ],
   "source": [
    "myTuple = (\"One\", \"Two\", \"Three\", \"Three\", \"Three\", \"Three\",\"Four\",\"Five\", \"Six\", \"Seven\")\n",
    "\n",
    "\n",
    "# Find \"three, how may times does it occur\"\n",
    "print(myTuple.count(\"Three\"))\n",
    "\n",
    "# Where is three\n",
    "print(myTuple.index(\"Three\"))"
   ]
  },
  {
   "cell_type": "markdown",
   "metadata": {},
   "source": [
    "## Range"
   ]
  },
  {
   "cell_type": "code",
   "execution_count": 45,
   "metadata": {},
   "outputs": [
    {
     "data": {
      "text/html": [
       "<style scoped>\n",
       "  .ansiout {\n",
       "    display: block;\n",
       "    unicode-bidi: embed;\n",
       "    white-space: pre-wrap;\n",
       "    word-wrap: break-word;\n",
       "    word-break: break-all;\n",
       "    font-family: \"Source Code Pro\", \"Menlo\", monospace;;\n",
       "    font-size: 13px;\n",
       "    color: #555;\n",
       "    margin-left: 4px;\n",
       "    line-height: 19px;\n",
       "  }\n",
       "</style>\n",
       "<div class=\"ansiout\"><span class=\"ansired\">Out[</span><span class=\"ansired\">81</span><span class=\"ansired\">]: </span>range(0, 10)\n",
       "</div>"
      ]
     },
     "metadata": {},
     "output_type": "display_data"
    }
   ],
   "source": [
    "range(10)\n"
   ]
  },
  {
   "cell_type": "code",
   "execution_count": 46,
   "metadata": {},
   "outputs": [
    {
     "data": {
      "text/html": [
       "<style scoped>\n",
       "  .ansiout {\n",
       "    display: block;\n",
       "    unicode-bidi: embed;\n",
       "    white-space: pre-wrap;\n",
       "    word-wrap: break-word;\n",
       "    word-break: break-all;\n",
       "    font-family: \"Source Code Pro\", \"Menlo\", monospace;;\n",
       "    font-size: 13px;\n",
       "    color: #555;\n",
       "    margin-left: 4px;\n",
       "    line-height: 19px;\n",
       "  }\n",
       "</style>\n",
       "<div class=\"ansiout\"><span class=\"ansired\">Out[</span><span class=\"ansired\">82</span><span class=\"ansired\">]: </span>[0, 5, 10, 15, 20, 25, 30, 35, 40, 45]\n",
       "</div>"
      ]
     },
     "metadata": {},
     "output_type": "display_data"
    }
   ],
   "source": [
    "list(range(0,50,5))"
   ]
  },
  {
   "cell_type": "code",
   "execution_count": 47,
   "metadata": {},
   "outputs": [
    {
     "data": {
      "text/html": [
       "<style scoped>\n",
       "  .ansiout {\n",
       "    display: block;\n",
       "    unicode-bidi: embed;\n",
       "    white-space: pre-wrap;\n",
       "    word-wrap: break-word;\n",
       "    word-break: break-all;\n",
       "    font-family: \"Source Code Pro\", \"Menlo\", monospace;;\n",
       "    font-size: 13px;\n",
       "    color: #555;\n",
       "    margin-left: 4px;\n",
       "    line-height: 19px;\n",
       "  }\n",
       "</style>\n",
       "<div class=\"ansiout\"><span class=\"ansired\">Out[</span><span class=\"ansired\">83</span><span class=\"ansired\">]: </span>[0, 1, 2, 3, 4, 5, 6, 7, 8, 9]\n",
       "</div>"
      ]
     },
     "metadata": {},
     "output_type": "display_data"
    }
   ],
   "source": [
    "list(range(10))"
   ]
  },
  {
   "cell_type": "code",
   "execution_count": 48,
   "metadata": {},
   "outputs": [
    {
     "data": {
      "text/html": [
       "<style scoped>\n",
       "  .ansiout {\n",
       "    display: block;\n",
       "    unicode-bidi: embed;\n",
       "    white-space: pre-wrap;\n",
       "    word-wrap: break-word;\n",
       "    word-break: break-all;\n",
       "    font-family: \"Source Code Pro\", \"Menlo\", monospace;;\n",
       "    font-size: 13px;\n",
       "    color: #555;\n",
       "    margin-left: 4px;\n",
       "    line-height: 19px;\n",
       "  }\n",
       "</style>\n",
       "<div class=\"ansiout\">&lt;class &apos;list&apos;&gt;\n",
       "</div>"
      ]
     },
     "metadata": {},
     "output_type": "display_data"
    }
   ],
   "source": [
    "x = list(range(10))\n",
    "x\n",
    "\n",
    "print(type(x))"
   ]
  },
  {
   "cell_type": "code",
   "execution_count": 49,
   "metadata": {},
   "outputs": [
    {
     "data": {
      "text/html": [
       "<style scoped>\n",
       "  .ansiout {\n",
       "    display: block;\n",
       "    unicode-bidi: embed;\n",
       "    white-space: pre-wrap;\n",
       "    word-wrap: break-word;\n",
       "    word-break: break-all;\n",
       "    font-family: \"Source Code Pro\", \"Menlo\", monospace;;\n",
       "    font-size: 13px;\n",
       "    color: #555;\n",
       "    margin-left: 4px;\n",
       "    line-height: 19px;\n",
       "  }\n",
       "</style>\n",
       "<div class=\"ansiout\">0\n",
       "1\n",
       "2\n",
       "3\n",
       "4\n",
       "5\n",
       "6\n",
       "7\n",
       "8\n",
       "9\n",
       "</div>"
      ]
     },
     "metadata": {},
     "output_type": "display_data"
    }
   ],
   "source": [
    "for i in range(0,10):\n",
    "    print (i)"
   ]
  },
  {
   "cell_type": "markdown",
   "metadata": {},
   "source": [
    "### Control Flow"
   ]
  },
  {
   "cell_type": "markdown",
   "metadata": {},
   "source": [
    "### if"
   ]
  },
  {
   "cell_type": "code",
   "execution_count": 52,
   "metadata": {},
   "outputs": [
    {
     "data": {
      "text/html": [
       "<style scoped>\n",
       "  .ansiout {\n",
       "    display: block;\n",
       "    unicode-bidi: embed;\n",
       "    white-space: pre-wrap;\n",
       "    word-wrap: break-word;\n",
       "    word-break: break-all;\n",
       "    font-family: \"Source Code Pro\", \"Menlo\", monospace;;\n",
       "    font-size: 13px;\n",
       "    color: #555;\n",
       "    margin-left: 4px;\n",
       "    line-height: 19px;\n",
       "  }\n",
       "</style>\n",
       "<div class=\"ansiout\">x is less than 100 at 9\n",
       "</div>"
      ]
     },
     "metadata": {},
     "output_type": "display_data"
    }
   ],
   "source": [
    "x = 9 \n",
    "\n",
    "if x < 100:\n",
    "    print(\"x is less than 100 at {}\".format(x))\n",
    "else: \n",
    "    print(\"x is greater than 100 at {}\".format(x))\n",
    "    "
   ]
  },
  {
   "cell_type": "code",
   "execution_count": 53,
   "metadata": {},
   "outputs": [
    {
     "data": {
      "text/html": [
       "<style scoped>\n",
       "  .ansiout {\n",
       "    display: block;\n",
       "    unicode-bidi: embed;\n",
       "    white-space: pre-wrap;\n",
       "    word-wrap: break-word;\n",
       "    word-break: break-all;\n",
       "    font-family: \"Source Code Pro\", \"Menlo\", monospace;;\n",
       "    font-size: 13px;\n",
       "    color: #555;\n",
       "    margin-left: 4px;\n",
       "    line-height: 19px;\n",
       "  }\n",
       "</style>\n",
       "<div class=\"ansiout\">x is divisible by 2 at 5.0\n",
       "</div>"
      ]
     },
     "metadata": {},
     "output_type": "display_data"
    }
   ],
   "source": [
    "x = 10\n",
    "\n",
    "if x % 2 == 0:\n",
    "    print(\"x is divisible by 2 at {}\".format(x/2))\n",
    "elif x % 3 == 0: \n",
    "    print(\"x is divisible by 3 at {}\".format(x/3))\n",
    "elif x % 5 == 0: \n",
    "    print(\"x is divisible by 5 at {}\".format(x/5))\n",
    "elif x % 7 == 0: \n",
    "    print(\"x is divisible by 7 at {}\".format(x/7))\n",
    "else:\n",
    "    print(\"{} is not divisible by 2,3,5,7 \".format(x))"
   ]
  },
  {
   "cell_type": "markdown",
   "metadata": {},
   "source": [
    "### for"
   ]
  },
  {
   "cell_type": "code",
   "execution_count": 55,
   "metadata": {},
   "outputs": [
    {
     "data": {
      "text/html": [
       "<style scoped>\n",
       "  .ansiout {\n",
       "    display: block;\n",
       "    unicode-bidi: embed;\n",
       "    white-space: pre-wrap;\n",
       "    word-wrap: break-word;\n",
       "    word-break: break-all;\n",
       "    font-family: \"Source Code Pro\", \"Menlo\", monospace;;\n",
       "    font-size: 13px;\n",
       "    color: #555;\n",
       "    margin-left: 4px;\n",
       "    line-height: 19px;\n",
       "  }\n",
       "</style>\n",
       "<div class=\"ansiout\">0\n",
       "1\n",
       "2\n",
       "3\n",
       "4\n",
       "5\n",
       "6\n",
       "7\n",
       "8\n",
       "9\n",
       "</div>"
      ]
     },
     "metadata": {},
     "output_type": "display_data"
    }
   ],
   "source": [
    "for x in range(10):\n",
    "    print(x)"
   ]
  },
  {
   "cell_type": "code",
   "execution_count": 56,
   "metadata": {},
   "outputs": [
    {
     "data": {
      "text/html": [
       "<style scoped>\n",
       "  .ansiout {\n",
       "    display: block;\n",
       "    unicode-bidi: embed;\n",
       "    white-space: pre-wrap;\n",
       "    word-wrap: break-word;\n",
       "    word-break: break-all;\n",
       "    font-family: \"Source Code Pro\", \"Menlo\", monospace;;\n",
       "    font-size: 13px;\n",
       "    color: #555;\n",
       "    margin-left: 4px;\n",
       "    line-height: 19px;\n",
       "  }\n",
       "</style>\n",
       "<div class=\"ansiout\">One\n",
       "Two\n",
       "Three\n",
       "Four\n",
       "Five\n",
       "Six\n",
       "Seven\n",
       "</div>"
      ]
     },
     "metadata": {},
     "output_type": "display_data"
    }
   ],
   "source": [
    "myList = [\"One\", \"Two\", \"Three\", \"Four\",\"Five\", \"Six\", \"Seven\"]\n",
    "\n",
    "for x in myList:\n",
    "    print(x)"
   ]
  },
  {
   "cell_type": "code",
   "execution_count": 57,
   "metadata": {},
   "outputs": [
    {
     "data": {
      "text/html": [
       "<style scoped>\n",
       "  .ansiout {\n",
       "    display: block;\n",
       "    unicode-bidi: embed;\n",
       "    white-space: pre-wrap;\n",
       "    word-wrap: break-word;\n",
       "    word-break: break-all;\n",
       "    font-family: \"Source Code Pro\", \"Menlo\", monospace;;\n",
       "    font-size: 13px;\n",
       "    color: #555;\n",
       "    margin-left: 4px;\n",
       "    line-height: 19px;\n",
       "  }\n",
       "</style>\n",
       "<div class=\"ansiout\">One 3\n",
       "Two 3\n",
       "Three 5\n",
       "Four 4\n",
       "Five 4\n",
       "Six 3\n",
       "Omega 5\n",
       "</div>"
      ]
     },
     "metadata": {},
     "output_type": "display_data"
    }
   ],
   "source": [
    "myList = [\"One\", \"Two\", \"Three\", \"Four\",\"Five\", \"Six\", \"Omega\", \"Seven\"]\n",
    "for x in myList:\n",
    "    print(x, len(x))\n",
    "    if x == \"Omega\":\n",
    "        break\n",
    "        "
   ]
  },
  {
   "cell_type": "code",
   "execution_count": 58,
   "metadata": {},
   "outputs": [
    {
     "data": {
      "text/html": [
       "<style scoped>\n",
       "  .ansiout {\n",
       "    display: block;\n",
       "    unicode-bidi: embed;\n",
       "    white-space: pre-wrap;\n",
       "    word-wrap: break-word;\n",
       "    word-break: break-all;\n",
       "    font-family: \"Source Code Pro\", \"Menlo\", monospace;;\n",
       "    font-size: 13px;\n",
       "    color: #555;\n",
       "    margin-left: 4px;\n",
       "    line-height: 19px;\n",
       "  }\n",
       "</style>\n",
       "<div class=\"ansiout\">One 3\n",
       "Two 3\n",
       "Three 5\n",
       "Four 4\n",
       "Five 4\n",
       "Six 3\n",
       "Omega 5\n",
       "Seven 5\n",
       "</div>"
      ]
     },
     "metadata": {},
     "output_type": "display_data"
    }
   ],
   "source": [
    "myList = [\"One\", \"Two\", \"Three\", \"Four\",\"Five\", \"Six\", \"Omega\", \"Seven\"]\n",
    "\n",
    "lenList = len(myList)-1\n",
    "i = 0\n",
    "while i <= lenList:\n",
    "    print(myList[i], len(myList[i]))\n",
    "    i = i + 1"
   ]
  },
  {
   "cell_type": "markdown",
   "metadata": {},
   "source": [
    "### Functions"
   ]
  },
  {
   "cell_type": "code",
   "execution_count": 60,
   "metadata": {},
   "outputs": [
    {
     "data": {
      "text/html": [
       "<style scoped>\n",
       "  .ansiout {\n",
       "    display: block;\n",
       "    unicode-bidi: embed;\n",
       "    white-space: pre-wrap;\n",
       "    word-wrap: break-word;\n",
       "    word-break: break-all;\n",
       "    font-family: \"Source Code Pro\", \"Menlo\", monospace;;\n",
       "    font-size: 13px;\n",
       "    color: #555;\n",
       "    margin-left: 4px;\n",
       "    line-height: 19px;\n",
       "  }\n",
       "</style>\n",
       "<div class=\"ansiout\">Mary had a lttie lamb ,  Its fleece was white as snow\n",
       "</div>"
      ]
     },
     "metadata": {},
     "output_type": "display_data"
    }
   ],
   "source": [
    "def printMary(x):\n",
    "        y = \"Its fleece was white as snow\"\n",
    "        print(x,\", \", y)\n",
    "    \n",
    "\n",
    "printMary(\"Mary had a lttie lamb\")"
   ]
  },
  {
   "cell_type": "code",
   "execution_count": 61,
   "metadata": {},
   "outputs": [
    {
     "data": {
      "text/html": [
       "<style scoped>\n",
       "  .ansiout {\n",
       "    display: block;\n",
       "    unicode-bidi: embed;\n",
       "    white-space: pre-wrap;\n",
       "    word-wrap: break-word;\n",
       "    word-break: break-all;\n",
       "    font-family: \"Source Code Pro\", \"Menlo\", monospace;;\n",
       "    font-size: 13px;\n",
       "    color: #555;\n",
       "    margin-left: 4px;\n",
       "    line-height: 19px;\n",
       "  }\n",
       "</style>\n",
       "<div class=\"ansiout\">Mary had a lttie lamb ,  Its fleece was white as snow\n",
       "</div>"
      ]
     },
     "metadata": {},
     "output_type": "display_data"
    }
   ],
   "source": [
    "def printMary(x,y):\n",
    "        print(x,\", \", y)\n",
    "\n",
    "        \n",
    "        \n",
    "y = \"Its fleece was white as snow\"\n",
    "\n",
    "printMary(\"Mary had a lttie lamb\",y)"
   ]
  },
  {
   "cell_type": "code",
   "execution_count": 62,
   "metadata": {},
   "outputs": [
    {
     "data": {
      "text/html": [
       "<style scoped>\n",
       "  .ansiout {\n",
       "    display: block;\n",
       "    unicode-bidi: embed;\n",
       "    white-space: pre-wrap;\n",
       "    word-wrap: break-word;\n",
       "    word-break: break-all;\n",
       "    font-family: \"Source Code Pro\", \"Menlo\", monospace;;\n",
       "    font-size: 13px;\n",
       "    color: #555;\n",
       "    margin-left: 4px;\n",
       "    line-height: 19px;\n",
       "  }\n",
       "</style>\n",
       "<div class=\"ansiout\"><span class=\"ansired\">Out[</span><span class=\"ansired\">97</span><span class=\"ansired\">]: </span>28\n",
       "</div>"
      ]
     },
     "metadata": {},
     "output_type": "display_data"
    }
   ],
   "source": [
    "def countString(x):\n",
    "        return len(x)\n",
    "\n",
    "y = \"Its fleece was white as snow\"    \n",
    "\n",
    "countString(y)"
   ]
  },
  {
   "cell_type": "code",
   "execution_count": 63,
   "metadata": {},
   "outputs": [
    {
     "data": {
      "text/html": [
       "<style scoped>\n",
       "  .ansiout {\n",
       "    display: block;\n",
       "    unicode-bidi: embed;\n",
       "    white-space: pre-wrap;\n",
       "    word-wrap: break-word;\n",
       "    word-break: break-all;\n",
       "    font-family: \"Source Code Pro\", \"Menlo\", monospace;;\n",
       "    font-size: 13px;\n",
       "    color: #555;\n",
       "    margin-left: 4px;\n",
       "    line-height: 19px;\n",
       "  }\n",
       "</style>\n",
       "<div class=\"ansiout\"><span class=\"ansired\">Out[</span><span class=\"ansired\">98</span><span class=\"ansired\">]: </span>6\n",
       "</div>"
      ]
     },
     "metadata": {},
     "output_type": "display_data"
    }
   ],
   "source": [
    "def countWords(x):\n",
    "        return len(x.split())\n",
    "\n",
    "y = \"Its fleece was white as snow\"    \n",
    "\n",
    "countWords(y)"
   ]
  },
  {
   "cell_type": "markdown",
   "metadata": {},
   "source": [
    "## Lamda, anonymous function"
   ]
  },
  {
   "cell_type": "code",
   "execution_count": 65,
   "metadata": {},
   "outputs": [
    {
     "data": {
      "text/html": [
       "<style scoped>\n",
       "  .ansiout {\n",
       "    display: block;\n",
       "    unicode-bidi: embed;\n",
       "    white-space: pre-wrap;\n",
       "    word-wrap: break-word;\n",
       "    word-break: break-all;\n",
       "    font-family: \"Source Code Pro\", \"Menlo\", monospace;;\n",
       "    font-size: 13px;\n",
       "    color: #555;\n",
       "    margin-left: 4px;\n",
       "    line-height: 19px;\n",
       "  }\n",
       "</style>\n",
       "<div class=\"ansiout\"><span class=\"ansired\">Out[</span><span class=\"ansired\">99</span><span class=\"ansired\">]: </span>81\n",
       "</div>"
      ]
     },
     "metadata": {},
     "output_type": "display_data"
    }
   ],
   "source": [
    "def square(x):\n",
    "    return x*x\n",
    "\n",
    "square(9)\n"
   ]
  },
  {
   "cell_type": "code",
   "execution_count": 66,
   "metadata": {},
   "outputs": [],
   "source": [
    "square = (lambda x: x * x)\n",
    "\n",
    "square(9)"
   ]
  },
  {
   "cell_type": "code",
   "execution_count": 67,
   "metadata": {},
   "outputs": [
    {
     "data": {
      "text/html": [
       "<style scoped>\n",
       "  .ansiout {\n",
       "    display: block;\n",
       "    unicode-bidi: embed;\n",
       "    white-space: pre-wrap;\n",
       "    word-wrap: break-word;\n",
       "    word-break: break-all;\n",
       "    font-family: \"Source Code Pro\", \"Menlo\", monospace;;\n",
       "    font-size: 13px;\n",
       "    color: #555;\n",
       "    margin-left: 4px;\n",
       "    line-height: 19px;\n",
       "  }\n",
       "</style>\n",
       "<div class=\"ansiout\">4\n",
       "16\n",
       "36\n",
       "64\n",
       "</div>"
      ]
     },
     "metadata": {},
     "output_type": "display_data"
    }
   ],
   "source": [
    "myList = [2,4,6,8]\n",
    "\n",
    "square = map(lambda x: x * x, myList)\n",
    "\n",
    "for i in square:\n",
    "    print(i)"
   ]
  },
  {
   "cell_type": "markdown",
   "metadata": {},
   "source": [
    "##Load data from csv \n",
    "\n",
    "Used the pandas package to load data form a url"
   ]
  },
  {
   "cell_type": "code",
   "execution_count": 69,
   "metadata": {},
   "outputs": [],
   "source": [
    "import pandas as pd \n",
    "\n",
    "epaMpg = spark.createDataFrame(pd.read_csv(\"https://raw.githubusercontent.com/sqlshep/SQLShepBlog/master/data/epaMpg.csv\"))"
   ]
  },
  {
   "cell_type": "markdown",
   "metadata": {},
   "source": [
    "Type, determine what type of object epaMPG is"
   ]
  },
  {
   "cell_type": "code",
   "execution_count": 71,
   "metadata": {},
   "outputs": [],
   "source": [
    "type(epa)"
   ]
  },
  {
   "cell_type": "markdown",
   "metadata": {},
   "source": [
    "Take, get the first 5 and first rows of epaMPG"
   ]
  },
  {
   "cell_type": "code",
   "execution_count": 73,
   "metadata": {},
   "outputs": [
    {
     "data": {
      "text/html": [
       "<style scoped>\n",
       "  .ansiout {\n",
       "    display: block;\n",
       "    unicode-bidi: embed;\n",
       "    white-space: pre-wrap;\n",
       "    word-wrap: break-word;\n",
       "    word-break: break-all;\n",
       "    font-family: \"Source Code Pro\", \"Menlo\", monospace;;\n",
       "    font-size: 13px;\n",
       "    color: #555;\n",
       "    margin-left: 4px;\n",
       "    line-height: 19px;\n",
       "  }\n",
       "</style>\n",
       "<div class=\"ansiout\"><span class=\"ansired\">Out[</span><span class=\"ansired\">24</span><span class=\"ansired\">]: </span>Row(Unnamed: 0=1, Represented.Test.Veh.Make=&apos;Aston Martin&apos;, Model=&apos;Rapide S&apos;, Vehicle.Type=&apos;Car&apos;, HorsePower=552, Cylinders=12, Tested.Transmission.Type.Code=&apos;SA&apos;, Tested.Transmission.Type=&apos;Semi-Automatic&apos;, Gears=8, Drive.System.Code=&apos;R&apos;, Weight=4750, AxleRatio=2.73, Test.Procedure.Cd=21, Test.Procedure.Description=&apos;Federal fuel 2-day exhaust (w/can load)&apos;, Test.Fuel.Type.Cd=61, Test.Fuel.Type.Description=&apos;Tier 2 Cert Gasoline&apos;, FuelEcon=17.3)\n",
       "</div>"
      ]
     },
     "metadata": {},
     "output_type": "display_data"
    }
   ],
   "source": [
    "#epaMpg.take(5)\n",
    "epaMpg.first()"
   ]
  },
  {
   "cell_type": "markdown",
   "metadata": {},
   "source": [
    "Return teh columns in the dataframe"
   ]
  },
  {
   "cell_type": "code",
   "execution_count": 75,
   "metadata": {},
   "outputs": [
    {
     "data": {
      "text/html": [
       "<style scoped>\n",
       "  .ansiout {\n",
       "    display: block;\n",
       "    unicode-bidi: embed;\n",
       "    white-space: pre-wrap;\n",
       "    word-wrap: break-word;\n",
       "    word-break: break-all;\n",
       "    font-family: \"Source Code Pro\", \"Menlo\", monospace;;\n",
       "    font-size: 13px;\n",
       "    color: #555;\n",
       "    margin-left: 4px;\n",
       "    line-height: 19px;\n",
       "  }\n",
       "</style>\n",
       "<div class=\"ansiout\"><span class=\"ansired\">Out[</span><span class=\"ansired\">21</span><span class=\"ansired\">]: </span>\n",
       "[&apos;Unnamed: 0&apos;,\n",
       " &apos;Represented.Test.Veh.Make&apos;,\n",
       " &apos;Model&apos;,\n",
       " &apos;Vehicle.Type&apos;,\n",
       " &apos;HorsePower&apos;,\n",
       " &apos;Cylinders&apos;,\n",
       " &apos;Tested.Transmission.Type.Code&apos;,\n",
       " &apos;Tested.Transmission.Type&apos;,\n",
       " &apos;Gears&apos;,\n",
       " &apos;Drive.System.Code&apos;,\n",
       " &apos;Weight&apos;,\n",
       " &apos;AxleRatio&apos;,\n",
       " &apos;Test.Procedure.Cd&apos;,\n",
       " &apos;Test.Procedure.Description&apos;,\n",
       " &apos;Test.Fuel.Type.Cd&apos;,\n",
       " &apos;Test.Fuel.Type.Description&apos;,\n",
       " &apos;FuelEcon&apos;]\n",
       "</div>"
      ]
     },
     "metadata": {},
     "output_type": "display_data"
    }
   ],
   "source": [
    "epaMpg.columns"
   ]
  },
  {
   "cell_type": "markdown",
   "metadata": {},
   "source": [
    "Return the entire datafrma, do no tuse this on large data sets"
   ]
  },
  {
   "cell_type": "code",
   "execution_count": 77,
   "metadata": {},
   "outputs": [
    {
     "data": {
      "text/html": [
       "<style scoped>\n",
       "  .ansiout {\n",
       "    display: block;\n",
       "    unicode-bidi: embed;\n",
       "    white-space: pre-wrap;\n",
       "    word-wrap: break-word;\n",
       "    word-break: break-all;\n",
       "    font-family: \"Source Code Pro\", \"Menlo\", monospace;;\n",
       "    font-size: 13px;\n",
       "    color: #555;\n",
       "    margin-left: 4px;\n",
       "    line-height: 19px;\n",
       "  }\n",
       "</style>\n",
       "<div class=\"ansiout\"><span class=\"ansired\">Out[</span><span class=\"ansired\">20</span><span class=\"ansired\">]: </span>\n",
       "[Row(Unnamed: 0=1, Represented.Test.Veh.Make=&apos;Aston Martin&apos;, Model=&apos;Rapide S&apos;, Vehicle.Type=&apos;Car&apos;, HorsePower=552, Cylinders=12, Tested.Transmission.Type.Code=&apos;SA&apos;, Tested.Transmission.Type=&apos;Semi-Automatic&apos;, Gears=8, Drive.System.Code=&apos;R&apos;, Weight=4750, AxleRatio=2.73, Test.Procedure.Cd=21, Test.Procedure.Description=&apos;Federal fuel 2-day exhaust (w/can load)&apos;, Test.Fuel.Type.Cd=61, Test.Fuel.Type.Description=&apos;Tier 2 Cert Gasoline&apos;, FuelEcon=17.3),\n",
       " Row(Unnamed: 0=2, Represented.Test.Veh.Make=&apos;Aston Martin&apos;, Model=&apos;Vanquish&apos;, Vehicle.Type=&apos;Car&apos;, HorsePower=568, Cylinders=12, Tested.Transmission.Type.Code=&apos;SA&apos;, Tested.Transmission.Type=&apos;Semi-Automatic&apos;, Gears=8, Drive.System.Code=&apos;R&apos;, Weight=4500, AxleRatio=2.73, Test.Procedure.Cd=21, Test.Procedure.Description=&apos;Federal fuel 2-day exhaust (w/can load)&apos;, Test.Fuel.Type.Cd=61, Test.Fuel.Type.Description=&apos;Tier 2 Cert Gasoline&apos;, FuelEcon=16.5),\n",
       " Row(Unnamed: 0=3, Represented.Test.Veh.Make=&apos;BENTLEY&apos;, Model=&apos;Continental GT&apos;, Vehicle.Type=&apos;Car&apos;, HorsePower=616, Cylinders=12, Tested.Transmission.Type.Code=&apos;SA&apos;, Tested.Transmission.Type=&apos;Semi-Automatic&apos;, Gears=8, Drive.System.Code=&apos;F&apos;, Weight=6000, AxleRatio=2.85, Test.Procedure.Cd=90, Test.Procedure.Description=&apos;US06&apos;, Test.Fuel.Type.Cd=61, Test.Fuel.Type.Description=&apos;Tier 2 Cert Gasoline&apos;, FuelEcon=17.4),\n",
       " Row(Unnamed: 0=4, Represented.Test.Veh.Make=&apos;BENTLEY&apos;, Model=&apos;Continental GT&apos;, Vehicle.Type=&apos;Car&apos;, HorsePower=616, Cylinders=12, Tested.Transmission.Type.Code=&apos;SA&apos;, Tested.Transmission.Type=&apos;Semi-Automatic&apos;, Gears=8, Drive.System.Code=&apos;F&apos;, Weight=6000, AxleRatio=2.85, Test.Procedure.Cd=11, Test.Procedure.Description=&apos;Cold CO&apos;, Test.Fuel.Type.Cd=27, Test.Fuel.Type.Description=&apos;Cold CO Premium (Tier 2)&apos;, FuelEcon=13.6),\n",
       " Row(Unnamed: 0=5, Represented.Test.Veh.Make=&apos;BMW&apos;, Model=&apos;230i Convertible&apos;, Vehicle.Type=&apos;Car&apos;, HorsePower=248, Cylinders=4, Tested.Transmission.Type.Code=&apos;SA&apos;, Tested.Transmission.Type=&apos;Semi-Automatic&apos;, Gears=8, Drive.System.Code=&apos;R&apos;, Weight=4000, AxleRatio=2.81, Test.Procedure.Cd=3, Test.Procedure.Description=&apos;HWFE&apos;, Test.Fuel.Type.Cd=61, Test.Fuel.Type.Description=&apos;Tier 2 Cert Gasoline&apos;, FuelEcon=45.8),\n",
       " Row(Unnamed: 0=6, Represented.Test.Veh.Make=&apos;BMW&apos;, Model=&apos;230i Coupe&apos;, Vehicle.Type=&apos;Car&apos;, HorsePower=248, Cylinders=4, Tested.Transmission.Type.Code=&apos;M&apos;, Tested.Transmission.Type=&apos;Manual&apos;, Gears=6, Drive.System.Code=&apos;R&apos;, Weight=3625, AxleRatio=3.91, Test.Procedure.Cd=21, Test.Procedure.Description=&apos;Federal fuel 2-day exhaust (w/can load)&apos;, Test.Fuel.Type.Cd=61, Test.Fuel.Type.Description=&apos;Tier 2 Cert Gasoline&apos;, FuelEcon=26.4),\n",
       " Row(Unnamed: 0=7, Represented.Test.Veh.Make=&apos;BMW&apos;, Model=&apos;230i Coupe&apos;, Vehicle.Type=&apos;Car&apos;, HorsePower=248, Cylinders=4, Tested.Transmission.Type.Code=&apos;SA&apos;, Tested.Transmission.Type=&apos;Semi-Automatic&apos;, Gears=8, Drive.System.Code=&apos;R&apos;, Weight=3625, AxleRatio=2.81, Test.Procedure.Cd=3, Test.Procedure.Description=&apos;HWFE&apos;, Test.Fuel.Type.Cd=61, Test.Fuel.Type.Description=&apos;Tier 2 Cert Gasoline&apos;, FuelEcon=50.6),\n",
       " Row(Unnamed: 0=8, Represented.Test.Veh.Make=&apos;BMW&apos;, Model=&apos;230i xDrive Convertible&apos;, Vehicle.Type=&apos;Car&apos;, HorsePower=248, Cylinders=4, Tested.Transmission.Type.Code=&apos;SA&apos;, Tested.Transmission.Type=&apos;Semi-Automatic&apos;, Gears=8, Drive.System.Code=&apos;R&apos;, Weight=4000, AxleRatio=2.81, Test.Procedure.Cd=31, Test.Procedure.Description=&apos;Federal fuel 3-day exhaust&apos;, Test.Fuel.Type.Cd=61, Test.Fuel.Type.Description=&apos;Tier 2 Cert Gasoline&apos;, FuelEcon=29.6),\n",
       " Row(Unnamed: 0=9, Represented.Test.Veh.Make=&apos;BMW&apos;, Model=&apos;230i xDrive Coupe&apos;, Vehicle.Type=&apos;Car&apos;, HorsePower=248, Cylinders=4, Tested.Transmission.Type.Code=&apos;SA&apos;, Tested.Transmission.Type=&apos;Semi-Automatic&apos;, Gears=8, Drive.System.Code=&apos;R&apos;, Weight=3750, AxleRatio=2.81, Test.Procedure.Cd=21, Test.Procedure.Description=&apos;Federal fuel 2-day exhaust (w/can load)&apos;, Test.Fuel.Type.Cd=61, Test.Fuel.Type.Description=&apos;Tier 2 Cert Gasoline&apos;, FuelEcon=30.3),\n",
       " Row(Unnamed: 0=10, Represented.Test.Veh.Make=&apos;BMW&apos;, Model=&apos;320i&apos;, Vehicle.Type=&apos;Both&apos;, HorsePower=181, Cylinders=4, Tested.Transmission.Type.Code=&apos;A&apos;, Tested.Transmission.Type=&apos;Automatic&apos;, Gears=8, Drive.System.Code=&apos;R&apos;, Weight=3625, AxleRatio=3.2, Test.Procedure.Cd=31, Test.Procedure.Description=&apos;Federal fuel 3-day exhaust&apos;, Test.Fuel.Type.Cd=61, Test.Fuel.Type.Description=&apos;Tier 2 Cert Gasoline&apos;, FuelEcon=30.4),\n",
       " Row(Unnamed: 0=11, Represented.Test.Veh.Make=&apos;BMW&apos;, Model=&apos;320i&apos;, Vehicle.Type=&apos;Both&apos;, HorsePower=180, Cylinders=4, Tested.Transmission.Type.Code=&apos;M&apos;, Tested.Transmission.Type=&apos;Manual&apos;, Gears=6, Drive.System.Code=&apos;R&apos;, Weight=3625, AxleRatio=3.08, Test.Procedure.Cd=31, Test.Procedure.Description=&apos;Federal fuel 3-day exhaust&apos;, Test.Fuel.Type.Cd=61, Test.Fuel.Type.Description=&apos;Tier 2 Cert Gasoline&apos;, FuelEcon=29.5),\n",
       " Row(Unnamed: 0=12, Represented.Test.Veh.Make=&apos;BMW&apos;, Model=&apos;320i xDrive&apos;, Vehicle.Type=&apos;Both&apos;, HorsePower=181, Cylinders=4, Tested.Transmission.Type.Code=&apos;A&apos;, Tested.Transmission.Type=&apos;Automatic&apos;, Gears=8, Drive.System.Code=&apos;R&apos;, Weight=3750, AxleRatio=3.15, Test.Procedure.Cd=31, Test.Procedure.Description=&apos;Federal fuel 3-day exhaust&apos;, Test.Fuel.Type.Cd=61, Test.Fuel.Type.Description=&apos;Tier 2 Cert Gasoline&apos;, FuelEcon=29.9),\n",
       " Row(Unnamed: 0=13, Represented.Test.Veh.Make=&apos;BMW&apos;, Model=&apos;328d&apos;, Vehicle.Type=&apos;Car&apos;, HorsePower=183, Cylinders=4, Tested.Transmission.Type.Code=&apos;SA&apos;, Tested.Transmission.Type=&apos;Semi-Automatic&apos;, Gears=8, Drive.System.Code=&apos;R&apos;, Weight=3750, AxleRatio=2.81, Test.Procedure.Cd=2, Test.Procedure.Description=&apos;CVS 75 and later (w/o can. load)&apos;, Test.Fuel.Type.Cd=19, Test.Fuel.Type.Description=&apos;Federal Cert Diesel 7-15 PPM Sulfur&apos;, FuelEcon=42.2),\n",
       " Row(Unnamed: 0=14, Represented.Test.Veh.Make=&apos;BMW&apos;, Model=&apos;328d xDrive&apos;, Vehicle.Type=&apos;Car&apos;, HorsePower=181, Cylinders=4, Tested.Transmission.Type.Code=&apos;SA&apos;, Tested.Transmission.Type=&apos;Semi-Automatic&apos;, Gears=8, Drive.System.Code=&apos;R&apos;, Weight=4000, AxleRatio=2.81, Test.Procedure.Cd=2, Test.Procedure.Description=&apos;CVS 75 and later (w/o can. load)&apos;, Test.Fuel.Type.Cd=19, Test.Fuel.Type.Description=&apos;Federal Cert Diesel 7-15 PPM Sulfur&apos;, FuelEcon=41.2),\n",
       " Row(Unnamed: 0=15, Represented.Test.Veh.Make=&apos;BMW&apos;, Model=&apos;328d xDrive Sports Wagon&apos;, Vehicle.Type=&apos;Car&apos;, HorsePower=181, Cylinders=4, Tested.Transmission.Type.Code=&apos;SA&apos;, Tested.Transmission.Type=&apos;Semi-Automatic&apos;, Gears=8, Drive.System.Code=&apos;R&apos;, Weight=4250, AxleRatio=2.81, Test.Procedure.Cd=3, Test.Procedure.Description=&apos;HWFE&apos;, Test.Fuel.Type.Cd=19, Test.Fuel.Type.Description=&apos;Federal Cert Diesel 7-15 PPM Sulfur&apos;, FuelEcon=57.2),\n",
       " Row(Unnamed: 0=16, Represented.Test.Veh.Make=&apos;BMW&apos;, Model=&apos;330e&apos;, Vehicle.Type=&apos;Car&apos;, HorsePower=180, Cylinders=4, Tested.Transmission.Type.Code=&apos;SA&apos;, Tested.Transmission.Type=&apos;Semi-Automatic&apos;, Gears=8, Drive.System.Code=&apos;R&apos;, Weight=4250, AxleRatio=2.93, Test.Procedure.Cd=31, Test.Procedure.Description=&apos;Federal fuel 3-day exhaust&apos;, Test.Fuel.Type.Cd=61, Test.Fuel.Type.Description=&apos;Tier 2 Cert Gasoline&apos;, FuelEcon=35.6),\n",
       " Row(Unnamed: 0=17, Represented.Test.Veh.Make=&apos;BMW&apos;, Model=&apos;330i&apos;, Vehicle.Type=&apos;Car&apos;, HorsePower=248, Cylinders=4, Tested.Transmission.Type.Code=&apos;SA&apos;, Tested.Transmission.Type=&apos;Semi-Automatic&apos;, Gears=8, Drive.System.Code=&apos;R&apos;, Weight=3875, AxleRatio=2.81, Test.Procedure.Cd=31, Test.Procedure.Description=&apos;Federal fuel 3-day exhaust&apos;, Test.Fuel.Type.Cd=61, Test.Fuel.Type.Description=&apos;Tier 2 Cert Gasoline&apos;, FuelEcon=30.8),\n",
       " Row(Unnamed: 0=18, Represented.Test.Veh.Make=&apos;BMW&apos;, Model=&apos;330i&apos;, Vehicle.Type=&apos;Car&apos;, HorsePower=248, Cylinders=4, Tested.Transmission.Type.Code=&apos;M&apos;, Tested.Transmission.Type=&apos;Manual&apos;, Gears=6, Drive.System.Code=&apos;R&apos;, Weight=3750, AxleRatio=3.91, Test.Procedure.Cd=31, Test.Procedure.Description=&apos;Federal fuel 3-day exhaust&apos;, Test.Fuel.Type.Cd=61, Test.Fuel.Type.Description=&apos;Tier 2 Cert Gasoline&apos;, FuelEcon=26.7),\n",
       " Row(Unnamed: 0=19, Represented.Test.Veh.Make=&apos;BMW&apos;, Model=&apos;330i xDrive&apos;, Vehicle.Type=&apos;Car&apos;, HorsePower=248, Cylinders=4, Tested.Transmission.Type.Code=&apos;SA&apos;, Tested.Transmission.Type=&apos;Semi-Automatic&apos;, Gears=8, Drive.System.Code=&apos;R&apos;, Weight=4000, AxleRatio=2.81, Test.Procedure.Cd=31, Test.Procedure.Description=&apos;Federal fuel 3-day exhaust&apos;, Test.Fuel.Type.Cd=61, Test.Fuel.Type.Description=&apos;Tier 2 Cert Gasoline&apos;, FuelEcon=29.7),\n",
       " Row(Unnamed: 0=20, Represented.Test.Veh.Make=&apos;BMW&apos;, Model=&apos;330i xDrive Gran Turismo&apos;, Vehicle.Type=&apos;Car&apos;, HorsePower=248, Cylinders=4, Tested.Transmission.Type.Code=&apos;SA&apos;, Tested.Transmission.Type=&apos;Semi-Automatic&apos;, Gears=8, Drive.System.Code=&apos;R&apos;, Weight=4250, AxleRatio=2.93, Test.Procedure.Cd=31, Test.Procedure.Description=&apos;Federal fuel 3-day exhaust&apos;, Test.Fuel.Type.Cd=61, Test.Fuel.Type.Description=&apos;Tier 2 Cert Gasoline&apos;, FuelEcon=29.3),\n",
       " Row(Unnamed: 0=21, Represented.Test.Veh.Make=&apos;BMW&apos;, Model=&apos;330i xDrive Sports Wagon&apos;, Vehicle.Type=&apos;Car&apos;, HorsePower=248, Cylinders=4, Tested.Transmission.Type.Code=&apos;SA&apos;, Tested.Transmission.Type=&apos;Semi-Automatic&apos;, Gears=8, Drive.System.Code=&apos;R&apos;, Weight=4250, AxleRatio=2.81, Test.Procedure.Cd=31, Test.Procedure.Description=&apos;Federal fuel 3-day exhaust&apos;, Test.Fuel.Type.Cd=61, Test.Fuel.Type.Description=&apos;Tier 2 Cert Gasoline&apos;, FuelEcon=28.6),\n",
       " Row(Unnamed: 0=22, Represented.Test.Veh.Make=&apos;BMW&apos;, Model=&apos;340i&apos;, Vehicle.Type=&apos;Car&apos;, HorsePower=320, Cylinders=6, Tested.Transmission.Type.Code=&apos;SA&apos;, Tested.Transmission.Type=&apos;Semi-Automatic&apos;, Gears=8, Drive.System.Code=&apos;R&apos;, Weight=4000, AxleRatio=2.81, Test.Procedure.Cd=31, Test.Procedure.Description=&apos;Federal fuel 3-day exhaust&apos;, Test.Fuel.Type.Cd=61, Test.Fuel.Type.Description=&apos;Tier 2 Cert Gasoline&apos;, FuelEcon=29.0),\n",
       " Row(Unnamed: 0=23, Represented.Test.Veh.Make=&apos;BMW&apos;, Model=&apos;340i&apos;, Vehicle.Type=&apos;Car&apos;, HorsePower=320, Cylinders=6, Tested.Transmission.Type.Code=&apos;M&apos;, Tested.Transmission.Type=&apos;Manual&apos;, Gears=6, Drive.System.Code=&apos;R&apos;, Weight=4000, AxleRatio=3.23, Test.Procedure.Cd=3, Test.Procedure.Description=&apos;HWFE&apos;, Test.Fuel.Type.Cd=61, Test.Fuel.Type.Description=&apos;Tier 2 Cert Gasoline&apos;, FuelEcon=41.2),\n",
       " Row(Unnamed: 0=24, Represented.Test.Veh.Make=&apos;BMW&apos;, Model=&apos;340i xDrive&apos;, Vehicle.Type=&apos;Car&apos;, HorsePower=320, Cylinders=6, Tested.Transmission.Type.Code=&apos;SA&apos;, Tested.Transmission.Type=&apos;Semi-Automatic&apos;, Gears=8, Drive.System.Code=&apos;R&apos;, Weight=4000, AxleRatio=2.81, Test.Procedure.Cd=31, Test.Procedure.Description=&apos;Federal fuel 3-day exhaust&apos;, Test.Fuel.Type.Cd=61, Test.Fuel.Type.Description=&apos;Tier 2 Cert Gasoline&apos;, FuelEcon=29.2),\n",
       " Row(Unnamed: 0=25, Represented.Test.Veh.Make=&apos;BMW&apos;, Model=&apos;340i xDrive&apos;, Vehicle.Type=&apos;Car&apos;, HorsePower=320, Cylinders=6, Tested.Transmission.Type.Code=&apos;M&apos;, Tested.Transmission.Type=&apos;Manual&apos;, Gears=6, Drive.System.Code=&apos;R&apos;, Weight=4000, AxleRatio=3.23, Test.Procedure.Cd=31, Test.Procedure.Description=&apos;Federal fuel 3-day exhaust&apos;, Test.Fuel.Type.Cd=61, Test.Fuel.Type.Description=&apos;Tier 2 Cert Gasoline&apos;, FuelEcon=24.7),\n",
       " Row(Unnamed: 0=26, Represented.Test.Veh.Make=&apos;BMW&apos;, Model=&apos;340i xDrive Gran Turismo&apos;, Vehicle.Type=&apos;Car&apos;, HorsePower=322, Cylinders=6, Tested.Transmission.Type.Code=&apos;SA&apos;, Tested.Transmission.Type=&apos;Semi-Automatic&apos;, Gears=8, Drive.System.Code=&apos;R&apos;, Weight=4500, AxleRatio=2.93, Test.Procedure.Cd=31, Test.Procedure.Description=&apos;Federal fuel 3-day exhaust&apos;, Test.Fuel.Type.Cd=61, Test.Fuel.Type.Description=&apos;Tier 2 Cert Gasoline&apos;, FuelEcon=27.4),\n",
       " Row(Unnamed: 0=27, Represented.Test.Veh.Make=&apos;BMW&apos;, Model=&apos;430i Convertible&apos;, Vehicle.Type=&apos;Car&apos;, HorsePower=248, Cylinders=4, Tested.Transmission.Type.Code=&apos;SA&apos;, Tested.Transmission.Type=&apos;Semi-Automatic&apos;, Gears=8, Drive.System.Code=&apos;R&apos;, Weight=4250, AxleRatio=2.81, Test.Procedure.Cd=31, Test.Procedure.Description=&apos;Federal fuel 3-day exhaust&apos;, Test.Fuel.Type.Cd=61, Test.Fuel.Type.Description=&apos;Tier 2 Cert Gasoline&apos;, FuelEcon=30.2),\n",
       " Row(Unnamed: 0=28, Represented.Test.Veh.Make=&apos;BMW&apos;, Model=&apos;430i Coupe&apos;, Vehicle.Type=&apos;Car&apos;, HorsePower=248, Cylinders=4, Tested.Transmission.Type.Code=&apos;SA&apos;, Tested.Transmission.Type=&apos;Semi-Automatic&apos;, Gears=8, Drive.System.Code=&apos;R&apos;, Weight=3875, AxleRatio=2.81, Test.Procedure.Cd=31, Test.Procedure.Description=&apos;Federal fuel 3-day exhaust&apos;, Test.Fuel.Type.Cd=61, Test.Fuel.Type.Description=&apos;Tier 2 Cert Gasoline&apos;, FuelEcon=30.7),\n",
       " Row(Unnamed: 0=29, Represented.Test.Veh.Make=&apos;BMW&apos;, Model=&apos;430i Coupe&apos;, Vehicle.Type=&apos;Car&apos;, HorsePower=248, Cylinders=4, Tested.Transmission.Type.Code=&apos;M&apos;, Tested.Transmission.Type=&apos;Manual&apos;, Gears=6, Drive.System.Code=&apos;R&apos;, Weight=3875, AxleRatio=3.91, Test.Procedure.Cd=31, Test.Procedure.Description=&apos;Federal fuel 3-day exhaust&apos;, Test.Fuel.Type.Cd=61, Test.Fuel.Type.Description=&apos;Tier 2 Cert Gasoline&apos;, FuelEcon=26.6),\n",
       " Row(Unnamed: 0=30, Represented.Test.Veh.Make=&apos;BMW&apos;, Model=&apos;430i Gran Coupe&apos;, Vehicle.Type=&apos;Car&apos;, HorsePower=248, Cylinders=4, Tested.Transmission.Type.Code=&apos;SA&apos;, Tested.Transmission.Type=&apos;Semi-Automatic&apos;, Gears=8, Drive.System.Code=&apos;R&apos;, Weight=4000, AxleRatio=2.81, Test.Procedure.Cd=31, Test.Procedure.Description=&apos;Federal fuel 3-day exhaust&apos;, Test.Fuel.Type.Cd=61, Test.Fuel.Type.Description=&apos;Tier 2 Cert Gasoline&apos;, FuelEcon=30.0),\n",
       " Row(Unnamed: 0=32, Represented.Test.Veh.Make=&apos;BMW&apos;, Model=&apos;430i xDrive Coupe&apos;, Vehicle.Type=&apos;Car&apos;, HorsePower=248, Cylinders=4, Tested.Transmission.Type.Code=&apos;SA&apos;, Tested.Transmission.Type=&apos;Semi-Automatic&apos;, Gears=8, Drive.System.Code=&apos;R&apos;, Weight=4000, AxleRatio=2.81, Test.Procedure.Cd=31, Test.Procedure.Description=&apos;Federal fuel 3-day exhaust&apos;, Test.Fuel.Type.Cd=61, Test.Fuel.Type.Description=&apos;Tier 2 Cert Gasoline&apos;, FuelEcon=29.6),\n",
       " Row(Unnamed: 0=33, Represented.Test.Veh.Make=&apos;BMW&apos;, Model=&apos;430i xDrive Gran Coupe&apos;, Vehicle.Type=&apos;Car&apos;, HorsePower=248, Cylinders=4, Tested.Transmission.Type.Code=&apos;SA&apos;, Tested.Transmission.Type=&apos;Semi-Automatic&apos;, Gears=8, Drive.System.Code=&apos;R&apos;, Weight=4000, AxleRatio=2.81, Test.Procedure.Cd=31, Test.Procedure.Description=&apos;Federal fuel 3-day exhaust&apos;, Test.Fuel.Type.Cd=61, Test.Fuel.Type.Description=&apos;Tier 2 Cert Gasoline&apos;, FuelEcon=29.2),\n",
       " Row(Unnamed: 0=34, Represented.Test.Veh.Make=&apos;BMW&apos;, Model=&apos;440i Convertible&apos;, Vehicle.Type=&apos;Car&apos;, HorsePower=322, Cylinders=6, Tested.Transmission.Type.Code=&apos;SA&apos;, Tested.Transmission.Type=&apos;Semi-Automatic&apos;, Gears=8, Drive.System.Code=&apos;R&apos;, Weight=4500, AxleRatio=2.81, Test.Procedure.Cd=31, Test.Procedure.Description=&apos;Federal fuel 3-day exhaust&apos;, Test.Fuel.Type.Cd=61, Test.Fuel.Type.Description=&apos;Tier 2 Cert Gasoline&apos;, FuelEcon=27.5),\n",
       " Row(Unnamed: 0=35, Represented.Test.Veh.Make=&apos;BMW&apos;, Model=&apos;440i Coupe&apos;, Vehicle.Type=&apos;Car&apos;, HorsePower=322, Cylinders=6, Tested.Transmission.Type.Code=&apos;SA&apos;, Tested.Transmission.Type=&apos;Semi-Automatic&apos;, Gears=8, Drive.System.Code=&apos;R&apos;, Weight=4000, AxleRatio=2.81, Test.Procedure.Cd=21, Test.Procedure.Description=&apos;Federal fuel 2-day exhaust (w/can load)&apos;, Test.Fuel.Type.Cd=61, Test.Fuel.Type.Description=&apos;Tier 2 Cert Gasoline&apos;, FuelEcon=27.7),\n",
       " Row(Unnamed: 0=36, Represented.Test.Veh.Make=&apos;BMW&apos;, Model=&apos;440i Coupe&apos;, Vehicle.Type=&apos;Car&apos;, HorsePower=322, Cylinders=6, Tested.Transmission.Type.Code=&apos;M&apos;, Tested.Transmission.Type=&apos;Manual&apos;, Gears=6, Drive.System.Code=&apos;R&apos;, Weight=4000, AxleRatio=3.23, Test.Procedure.Cd=31, Test.Procedure.Description=&apos;Federal fuel 3-day exhaust&apos;, Test.Fuel.Type.Cd=61, Test.Fuel.Type.Description=&apos;Tier 2 Cert Gasoline&apos;, FuelEcon=23.2),\n",
       " Row(Unnamed: 0=37, Represented.Test.Veh.Make=&apos;BMW&apos;, Model=&apos;440i Gran Coupe&apos;, Vehicle.Type=&apos;Car&apos;, HorsePower=322, Cylinders=6, Tested.Transmission.Type.Code=&apos;SA&apos;, Tested.Transmission.Type=&apos;Semi-Automatic&apos;, Gears=8, Drive.System.Code=&apos;R&apos;, Weight=4000, AxleRatio=2.81, Test.Procedure.Cd=31, Test.Procedure.Description=&apos;Federal fuel 3-day exhaust&apos;, Test.Fuel.Type.Cd=61, Test.Fuel.Type.Description=&apos;Tier 2 Cert Gasoline&apos;, FuelEcon=28.6),\n",
       " Row(Unnamed: 0=38, Represented.Test.Veh.Make=&apos;BMW&apos;, Model=&apos;440i xDrive Convertible&apos;, Vehicle.Type=&apos;Car&apos;, HorsePower=322, Cylinders=6, Tested.Transmission.Type.Code=&apos;SA&apos;, Tested.Transmission.Type=&apos;Semi-Automatic&apos;, Gears=8, Drive.System.Code=&apos;R&apos;, Weight=4750, AxleRatio=2.81, Test.Procedure.Cd=31, Test.Procedure.Description=&apos;Federal fuel 3-day exhaust&apos;, Test.Fuel.Type.Cd=61, Test.Fuel.Type.Description=&apos;Tier 2 Cert Gasoline&apos;, FuelEcon=26.5),\n",
       " Row(Unnamed: 0=39, Represented.Test.Veh.Make=&apos;BMW&apos;, Model=&apos;440i xDrive Coupe&apos;, Vehicle.Type=&apos;Car&apos;, HorsePower=322, Cylinders=6, Tested.Transmission.Type.Code=&apos;SA&apos;, Tested.Transmission.Type=&apos;Semi-Automatic&apos;, Gears=8, Drive.System.Code=&apos;R&apos;, Weight=4250, AxleRatio=2.81, Test.Procedure.Cd=3, Test.Procedure.Description=&apos;HWFE&apos;, Test.Fuel.Type.Cd=61, Test.Fuel.Type.Description=&apos;Tier 2 Cert Gasoline&apos;, FuelEcon=43.7),\n",
       " Row(Unnamed: 0=40, Represented.Test.Veh.Make=&apos;BMW&apos;, Model=&apos;440i xDrive Coupe&apos;, Vehicle.Type=&apos;Car&apos;, HorsePower=322, Cylinders=6, Tested.Transmission.Type.Code=&apos;M&apos;, Tested.Transmission.Type=&apos;Manual&apos;, Gears=6, Drive.System.Code=&apos;R&apos;, Weight=4000, AxleRatio=3.23, Test.Procedure.Cd=31, Test.Procedure.Description=&apos;Federal fuel 3-day exhaust&apos;, Test.Fuel.Type.Cd=61, Test.Fuel.Type.Description=&apos;Tier 2 Cert Gasoline&apos;, FuelEcon=22.7),\n",
       " Row(Unnamed: 0=41, Represented.Test.Veh.Make=&apos;BMW&apos;, Model=&apos;440i xDrive Gran Coupe&apos;, Vehicle.Type=&apos;Car&apos;, HorsePower=322, Cylinders=6, Tested.Transmission.Type.Code=&apos;SA&apos;, Tested.Transmission.Type=&apos;Semi-Automatic&apos;, Gears=8, Drive.System.Code=&apos;R&apos;, Weight=4250, AxleRatio=2.81, Test.Procedure.Cd=31, Test.Procedure.Description=&apos;Federal fuel 3-day exhaust&apos;, Test.Fuel.Type.Cd=61, Test.Fuel.Type.Description=&apos;Tier 2 Cert Gasoline&apos;, FuelEcon=27.5),\n",
       " Row(Unnamed: 0=42, Represented.Test.Veh.Make=&apos;BMW&apos;, Model=&apos;530e&apos;, Vehicle.Type=&apos;Car&apos;, HorsePower=180, Cylinders=4, Tested.Transmission.Type.Code=&apos;SA&apos;, Tested.Transmission.Type=&apos;Semi-Automatic&apos;, Gears=8, Drive.System.Code=&apos;R&apos;, Weight=4500, AxleRatio=3.23, Test.Procedure.Cd=31, Test.Procedure.Description=&apos;Federal fuel 3-day exhaust&apos;, Test.Fuel.Type.Cd=61, Test.Fuel.Type.Description=&apos;Tier 2 Cert Gasoline&apos;, FuelEcon=35.7),\n",
       " Row(Unnamed: 0=43, Represented.Test.Veh.Make=&apos;BMW&apos;, Model=&apos;530e xDrive&apos;, Vehicle.Type=&apos;Car&apos;, HorsePower=180, Cylinders=4, Tested.Transmission.Type.Code=&apos;SA&apos;, Tested.Transmission.Type=&apos;Semi-Automatic&apos;, Gears=8, Drive.System.Code=&apos;R&apos;, Weight=4750, AxleRatio=3.23, Test.Procedure.Cd=3, Test.Procedure.Description=&apos;HWFE&apos;, Test.Fuel.Type.Cd=61, Test.Fuel.Type.Description=&apos;Tier 2 Cert Gasoline&apos;, FuelEcon=43.9),\n",
       " Row(Unnamed: 0=44, Represented.Test.Veh.Make=&apos;BMW&apos;, Model=&apos;530i&apos;, Vehicle.Type=&apos;Car&apos;, HorsePower=248, Cylinders=4, Tested.Transmission.Type.Code=&apos;SA&apos;, Tested.Transmission.Type=&apos;Semi-Automatic&apos;, Gears=8, Drive.System.Code=&apos;R&apos;, Weight=4000, AxleRatio=3.08, Test.Procedure.Cd=31, Test.Procedure.Description=&apos;Federal fuel 3-day exhaust&apos;, Test.Fuel.Type.Cd=61, Test.Fuel.Type.Description=&apos;Tier 2 Cert Gasoline&apos;, FuelEcon=31.7),\n",
       " Row(Unnamed: 0=45, Represented.Test.Veh.Make=&apos;BMW&apos;, Model=&apos;530i xDrive&apos;, Vehicle.Type=&apos;Car&apos;, HorsePower=248, Cylinders=4, Tested.Transmission.Type.Code=&apos;SA&apos;, Tested.Transmission.Type=&apos;Semi-Automatic&apos;, Gears=8, Drive.System.Code=&apos;R&apos;, Weight=4250, AxleRatio=3.08, Test.Procedure.Cd=31, Test.Procedure.Description=&apos;Federal fuel 3-day exhaust&apos;, Test.Fuel.Type.Cd=61, Test.Fuel.Type.Description=&apos;Tier 2 Cert Gasoline&apos;, FuelEcon=29.8),\n",
       " Row(Unnamed: 0=46, Represented.Test.Veh.Make=&apos;BMW&apos;, Model=&apos;540i&apos;, Vehicle.Type=&apos;Car&apos;, HorsePower=335, Cylinders=6, Tested.Transmission.Type.Code=&apos;SA&apos;, Tested.Transmission.Type=&apos;Semi-Automatic&apos;, Gears=8, Drive.System.Code=&apos;R&apos;, Weight=4250, AxleRatio=2.93, Test.Procedure.Cd=31, Test.Procedure.Description=&apos;Federal fuel 3-day exhaust&apos;, Test.Fuel.Type.Cd=61, Test.Fuel.Type.Description=&apos;Tier 2 Cert Gasoline&apos;, FuelEcon=25.8),\n",
       " Row(Unnamed: 0=47, Represented.Test.Veh.Make=&apos;BMW&apos;, Model=&apos;540i xDrive&apos;, Vehicle.Type=&apos;Car&apos;, HorsePower=335, Cylinders=6, Tested.Transmission.Type.Code=&apos;SA&apos;, Tested.Transmission.Type=&apos;Semi-Automatic&apos;, Gears=8, Drive.System.Code=&apos;R&apos;, Weight=4250, AxleRatio=2.93, Test.Procedure.Cd=31, Test.Procedure.Description=&apos;Federal fuel 3-day exhaust&apos;, Test.Fuel.Type.Cd=61, Test.Fuel.Type.Description=&apos;Tier 2 Cert Gasoline&apos;, FuelEcon=26.9),\n",
       " Row(Unnamed: 0=48, Represented.Test.Veh.Make=&apos;BMW&apos;, Model=&apos;640i Convertible&apos;, Vehicle.Type=&apos;Car&apos;, HorsePower=300, Cylinders=6, Tested.Transmission.Type.Code=&apos;SA&apos;, Tested.Transmission.Type=&apos;Semi-Automatic&apos;, Gears=8, Drive.System.Code=&apos;R&apos;, Weight=4500, AxleRatio=3.23, Test.Procedure.Cd=31, Test.Procedure.Description=&apos;Federal fuel 3-day exhaust&apos;, Test.Fuel.Type.Cd=61, Test.Fuel.Type.Description=&apos;Tier 2 Cert Gasoline&apos;, FuelEcon=26.1),\n",
       " Row(Unnamed: 0=49, Represented.Test.Veh.Make=&apos;BMW&apos;, Model=&apos;640i Convertible&apos;, Vehicle.Type=&apos;Car&apos;, HorsePower=300, Cylinders=6, Tested.Transmission.Type.Code=&apos;SA&apos;, Tested.Transmission.Type=&apos;Semi-Automatic&apos;, Gears=8, Drive.System.Code=&apos;R&apos;, Weight=4500, AxleRatio=3.23, Test.Procedure.Cd=31, Test.Procedure.Description=&apos;Federal fuel 3-day exhaust&apos;, Test.Fuel.Type.Cd=61, Test.Fuel.Type.Description=&apos;Tier 2 Cert Gasoline&apos;, FuelEcon=26.5),\n",
       " Row(Unnamed: 0=50, Represented.Test.Veh.Make=&apos;BMW&apos;, Model=&apos;640i xDrive Convertible&apos;, Vehicle.Type=&apos;Car&apos;, HorsePower=300, Cylinders=6, Tested.Transmission.Type.Code=&apos;SA&apos;, Tested.Transmission.Type=&apos;Semi-Automatic&apos;, Gears=8, Drive.System.Code=&apos;R&apos;, Weight=4750, AxleRatio=3.23, Test.Procedure.Cd=31, Test.Procedure.Description=&apos;Federal fuel 3-day exhaust&apos;, Test.Fuel.Type.Cd=61, Test.Fuel.Type.Description=&apos;Tier 2 Cert Gasoline&apos;, FuelEcon=24.7),\n",
       " Row(Unnamed: 0=51, Represented.Test.Veh.Make=&apos;BMW&apos;, Model=&apos;640i xDrive Convertible&apos;, Vehicle.Type=&apos;Car&apos;, HorsePower=300, Cylinders=6, Tested.Transmission.Type.Code=&apos;SA&apos;, Tested.Transmission.Type=&apos;Semi-Automatic&apos;, Gears=8, Drive.System.Code=&apos;R&apos;, Weight=4750, AxleRatio=3.23, Test.Procedure.Cd=31, Test.Procedure.Description=&apos;Federal fuel 3-day exhaust&apos;, Test.Fuel.Type.Cd=61, Test.Fuel.Type.Description=&apos;Tier 2 Cert Gasoline&apos;, FuelEcon=25.4),\n",
       " Row(Unnamed: 0=52, Represented.Test.Veh.Make=&apos;BMW&apos;, Model=&apos;640i xDrive Gran Turismo&apos;, Vehicle.Type=&apos;Both&apos;, HorsePower=335, Cylinders=6, Tested.Transmission.Type.Code=&apos;SA&apos;, Tested.Transmission.Type=&apos;Semi-Automatic&apos;, Gears=8, Drive.System.Code=&apos;R&apos;, Weight=4750, AxleRatio=3.08, Test.Procedure.Cd=31, Test.Procedure.Description=&apos;Federal fuel 3-day exhaust&apos;, Test.Fuel.Type.Cd=61, Test.Fuel.Type.Description=&apos;Tier 2 Cert Gasoline&apos;, FuelEcon=25.0),\n",
       " Row(Unnamed: 0=53, Represented.Test.Veh.Make=&apos;BMW&apos;, Model=&apos;650i Convertible&apos;, Vehicle.Type=&apos;Car&apos;, HorsePower=448, Cylinders=8, Tested.Transmission.Type.Code=&apos;SA&apos;, Tested.Transmission.Type=&apos;Semi-Automatic&apos;, Gears=8, Drive.System.Code=&apos;R&apos;, Weight=4750, AxleRatio=2.81, Test.Procedure.Cd=31, Test.Procedure.Description=&apos;Federal fuel 3-day exhaust&apos;, Test.Fuel.Type.Cd=61, Test.Fuel.Type.Description=&apos;Tier 2 Cert Gasoline&apos;, FuelEcon=22.0),\n",
       " Row(Unnamed: 0=54, Represented.Test.Veh.Make=&apos;BMW&apos;, Model=&apos;650i xDrive Convertible&apos;, Vehicle.Type=&apos;Car&apos;, HorsePower=448, Cylinders=8, Tested.Transmission.Type.Code=&apos;SA&apos;, Tested.Transmission.Type=&apos;Semi-Automatic&apos;, Gears=8, Drive.System.Code=&apos;R&apos;, Weight=5000, AxleRatio=2.81, Test.Procedure.Cd=31, Test.Procedure.Description=&apos;Federal fuel 3-day exhaust&apos;, Test.Fuel.Type.Cd=61, Test.Fuel.Type.Description=&apos;Tier 2 Cert Gasoline&apos;, FuelEcon=19.4),\n",
       " Row(Unnamed: 0=55, Represented.Test.Veh.Make=&apos;BMW&apos;, Model=&apos;740e xDrive&apos;, Vehicle.Type=&apos;Car&apos;, HorsePower=255, Cylinders=4, Tested.Transmission.Type.Code=&apos;SA&apos;, Tested.Transmission.Type=&apos;Semi-Automatic&apos;, Gears=8, Drive.System.Code=&apos;R&apos;, Weight=5000, AxleRatio=3.23, Test.Procedure.Cd=31, Test.Procedure.Description=&apos;Federal fuel 3-day exhaust&apos;, Test.Fuel.Type.Cd=61, Test.Fuel.Type.Description=&apos;Tier 2 Cert Gasoline&apos;, FuelEcon=32.1),\n",
       " Row(Unnamed: 0=56, Represented.Test.Veh.Make=&apos;BMW&apos;, Model=&apos;740i&apos;, Vehicle.Type=&apos;Car&apos;, HorsePower=320, Cylinders=6, Tested.Transmission.Type.Code=&apos;SA&apos;, Tested.Transmission.Type=&apos;Semi-Automatic&apos;, Gears=8, Drive.System.Code=&apos;R&apos;, Weight=4500, AxleRatio=3.08, Test.Procedure.Cd=31, Test.Procedure.Description=&apos;Federal fuel 3-day exhaust&apos;, Test.Fuel.Type.Cd=61, Test.Fuel.Type.Description=&apos;Tier 2 Cert Gasoline&apos;, FuelEcon=28.0),\n",
       " Row(Unnamed: 0=57, Represented.Test.Veh.Make=&apos;BMW&apos;, Model=&apos;740i xDrive&apos;, Vehicle.Type=&apos;Car&apos;, HorsePower=320, Cylinders=6, Tested.Transmission.Type.Code=&apos;SA&apos;, Tested.Transmission.Type=&apos;Semi-Automatic&apos;, Gears=8, Drive.System.Code=&apos;R&apos;, Weight=4750, AxleRatio=3.08, Test.Procedure.Cd=31, Test.Procedure.Description=&apos;Federal fuel 3-day exhaust&apos;, Test.Fuel.Type.Cd=61, Test.Fuel.Type.Description=&apos;Tier 2 Cert Gasoline&apos;, FuelEcon=24.8),\n",
       " Row(Unnamed: 0=58, Represented.Test.Veh.Make=&apos;BMW&apos;, Model=&apos;750i&apos;, Vehicle.Type=&apos;Car&apos;, HorsePower=443, Cylinders=8, Tested.Transmission.Type.Code=&apos;SA&apos;, Tested.Transmission.Type=&apos;Semi-Automatic&apos;, Gears=8, Drive.System.Code=&apos;R&apos;, Weight=4750, AxleRatio=2.81, Test.Procedure.Cd=21, Test.Procedure.Description=&apos;Federal fuel 2-day exhaust (w/can load)&apos;, Test.Fuel.Type.Cd=61, Test.Fuel.Type.Description=&apos;Tier 2 Cert Gasoline&apos;, FuelEcon=22.2),\n",
       " Row(Unnamed: 0=59, Represented.Test.Veh.Make=&apos;BMW&apos;, Model=&apos;750i xDrive&apos;, Vehicle.Type=&apos;Car&apos;, HorsePower=443, Cylinders=8, Tested.Transmission.Type.Code=&apos;SA&apos;, Tested.Transmission.Type=&apos;Semi-Automatic&apos;, Gears=8, Drive.System.Code=&apos;R&apos;, Weight=5000, AxleRatio=2.81, Test.Procedure.Cd=21, Test.Procedure.Description=&apos;Federal fuel 2-day exhaust (w/can load)&apos;, Test.Fuel.Type.Cd=61, Test.Fuel.Type.Description=&apos;Tier 2 Cert Gasoline&apos;, FuelEcon=21.7),\n",
       "\n",
       "*** WARNING: skipped 388999 bytes of output ***\n",
       "\n",
       " Row(Unnamed: 0=951, Represented.Test.Veh.Make=&apos;AUDI&apos;, Model=&apos;R8&apos;, Vehicle.Type=&apos;Car&apos;, HorsePower=540, Cylinders=10, Tested.Transmission.Type.Code=&apos;AMS&apos;, Tested.Transmission.Type=&apos;Automated Manual- Selectable (e.g. Automated Manual with paddles)&apos;, Gears=7, Drive.System.Code=&apos;A&apos;, Weight=4000, AxleRatio=3.59, Test.Procedure.Cd=21, Test.Procedure.Description=&apos;Federal fuel 2-day exhaust (w/can load)&apos;, Test.Fuel.Type.Cd=61, Test.Fuel.Type.Description=&apos;Tier 2 Cert Gasoline&apos;, FuelEcon=17.3),\n",
       " Row(Unnamed: 0=952, Represented.Test.Veh.Make=&apos;AUDI&apos;, Model=&apos;R8&apos;, Vehicle.Type=&apos;Car&apos;, HorsePower=540, Cylinders=10, Tested.Transmission.Type.Code=&apos;AMS&apos;, Tested.Transmission.Type=&apos;Automated Manual- Selectable (e.g. Automated Manual with paddles)&apos;, Gears=7, Drive.System.Code=&apos;A&apos;, Weight=4000, AxleRatio=3.59, Test.Procedure.Cd=11, Test.Procedure.Description=&apos;Cold CO&apos;, Test.Fuel.Type.Cd=27, Test.Fuel.Type.Description=&apos;Cold CO Premium (Tier 2)&apos;, FuelEcon=14.7),\n",
       " Row(Unnamed: 0=953, Represented.Test.Veh.Make=&apos;AUDI&apos;, Model=&apos;RS5&apos;, Vehicle.Type=&apos;Both&apos;, HorsePower=450, Cylinders=6, Tested.Transmission.Type.Code=&apos;SA&apos;, Tested.Transmission.Type=&apos;Semi-Automatic&apos;, Gears=8, Drive.System.Code=&apos;A&apos;, Weight=4250, AxleRatio=3.2, Test.Procedure.Cd=95, Test.Procedure.Description=&apos;SC03&apos;, Test.Fuel.Type.Cd=61, Test.Fuel.Type.Description=&apos;Tier 2 Cert Gasoline&apos;, FuelEcon=23.3),\n",
       " Row(Unnamed: 0=954, Represented.Test.Veh.Make=&apos;AUDI&apos;, Model=&apos;RS5&apos;, Vehicle.Type=&apos;Both&apos;, HorsePower=450, Cylinders=6, Tested.Transmission.Type.Code=&apos;SA&apos;, Tested.Transmission.Type=&apos;Semi-Automatic&apos;, Gears=8, Drive.System.Code=&apos;A&apos;, Weight=4250, AxleRatio=3.2, Test.Procedure.Cd=11, Test.Procedure.Description=&apos;Cold CO&apos;, Test.Fuel.Type.Cd=27, Test.Fuel.Type.Description=&apos;Cold CO Premium (Tier 2)&apos;, FuelEcon=18.8),\n",
       " Row(Unnamed: 0=955, Represented.Test.Veh.Make=&apos;AUDI&apos;, Model=&apos;RS7&apos;, Vehicle.Type=&apos;Car&apos;, HorsePower=560, Cylinders=8, Tested.Transmission.Type.Code=&apos;AMS&apos;, Tested.Transmission.Type=&apos;Automated Manual- Selectable (e.g. Automated Manual with paddles)&apos;, Gears=8, Drive.System.Code=&apos;A&apos;, Weight=4750, AxleRatio=3.08, Test.Procedure.Cd=11, Test.Procedure.Description=&apos;Cold CO&apos;, Test.Fuel.Type.Cd=27, Test.Fuel.Type.Description=&apos;Cold CO Premium (Tier 2)&apos;, FuelEcon=12.9),\n",
       " Row(Unnamed: 0=956, Represented.Test.Veh.Make=&apos;AUDI&apos;, Model=&apos;RS7&apos;, Vehicle.Type=&apos;Car&apos;, HorsePower=560, Cylinders=8, Tested.Transmission.Type.Code=&apos;AMS&apos;, Tested.Transmission.Type=&apos;Automated Manual- Selectable (e.g. Automated Manual with paddles)&apos;, Gears=8, Drive.System.Code=&apos;A&apos;, Weight=4750, AxleRatio=3.08, Test.Procedure.Cd=21, Test.Procedure.Description=&apos;Federal fuel 2-day exhaust (w/can load)&apos;, Test.Fuel.Type.Cd=61, Test.Fuel.Type.Description=&apos;Tier 2 Cert Gasoline&apos;, FuelEcon=16.5),\n",
       " Row(Unnamed: 0=957, Represented.Test.Veh.Make=&apos;AUDI&apos;, Model=&apos;S3&apos;, Vehicle.Type=&apos;Car&apos;, HorsePower=292, Cylinders=4, Tested.Transmission.Type.Code=&apos;AMS&apos;, Tested.Transmission.Type=&apos;Automated Manual- Selectable (e.g. Automated Manual with paddles)&apos;, Gears=7, Drive.System.Code=&apos;F&apos;, Weight=3875, AxleRatio=3.3, Test.Procedure.Cd=3, Test.Procedure.Description=&apos;HWFE&apos;, Test.Fuel.Type.Cd=61, Test.Fuel.Type.Description=&apos;Tier 2 Cert Gasoline&apos;, FuelEcon=40.8),\n",
       " Row(Unnamed: 0=958, Represented.Test.Veh.Make=&apos;AUDI&apos;, Model=&apos;S3&apos;, Vehicle.Type=&apos;Car&apos;, HorsePower=292, Cylinders=4, Tested.Transmission.Type.Code=&apos;AMS&apos;, Tested.Transmission.Type=&apos;Automated Manual- Selectable (e.g. Automated Manual with paddles)&apos;, Gears=7, Drive.System.Code=&apos;F&apos;, Weight=3875, AxleRatio=3.3, Test.Procedure.Cd=11, Test.Procedure.Description=&apos;Cold CO&apos;, Test.Fuel.Type.Cd=27, Test.Fuel.Type.Description=&apos;Cold CO Premium (Tier 2)&apos;, FuelEcon=23.3),\n",
       " Row(Unnamed: 0=959, Represented.Test.Veh.Make=&apos;AUDI&apos;, Model=&apos;S4&apos;, Vehicle.Type=&apos;Both&apos;, HorsePower=354, Cylinders=6, Tested.Transmission.Type.Code=&apos;SA&apos;, Tested.Transmission.Type=&apos;Semi-Automatic&apos;, Gears=8, Drive.System.Code=&apos;A&apos;, Weight=4500, AxleRatio=2.85, Test.Procedure.Cd=21, Test.Procedure.Description=&apos;Federal fuel 2-day exhaust (w/can load)&apos;, Test.Fuel.Type.Cd=61, Test.Fuel.Type.Description=&apos;Tier 2 Cert Gasoline&apos;, FuelEcon=25.4),\n",
       " Row(Unnamed: 0=960, Represented.Test.Veh.Make=&apos;AUDI&apos;, Model=&apos;S4&apos;, Vehicle.Type=&apos;Both&apos;, HorsePower=354, Cylinders=6, Tested.Transmission.Type.Code=&apos;SA&apos;, Tested.Transmission.Type=&apos;Semi-Automatic&apos;, Gears=8, Drive.System.Code=&apos;A&apos;, Weight=4500, AxleRatio=2.85, Test.Procedure.Cd=11, Test.Procedure.Description=&apos;Cold CO&apos;, Test.Fuel.Type.Cd=27, Test.Fuel.Type.Description=&apos;Cold CO Premium (Tier 2)&apos;, FuelEcon=19.6),\n",
       " Row(Unnamed: 0=961, Represented.Test.Veh.Make=&apos;AUDI&apos;, Model=&apos;S4&apos;, Vehicle.Type=&apos;Both&apos;, HorsePower=354, Cylinders=6, Tested.Transmission.Type.Code=&apos;SA&apos;, Tested.Transmission.Type=&apos;Semi-Automatic&apos;, Gears=8, Drive.System.Code=&apos;A&apos;, Weight=4250, AxleRatio=2.85, Test.Procedure.Cd=90, Test.Procedure.Description=&apos;US06&apos;, Test.Fuel.Type.Cd=61, Test.Fuel.Type.Description=&apos;Tier 2 Cert Gasoline&apos;, FuelEcon=26.3),\n",
       " Row(Unnamed: 0=962, Represented.Test.Veh.Make=&apos;AUDI&apos;, Model=&apos;S4&apos;, Vehicle.Type=&apos;Both&apos;, HorsePower=354, Cylinders=6, Tested.Transmission.Type.Code=&apos;SA&apos;, Tested.Transmission.Type=&apos;Semi-Automatic&apos;, Gears=8, Drive.System.Code=&apos;A&apos;, Weight=4250, AxleRatio=2.85, Test.Procedure.Cd=11, Test.Procedure.Description=&apos;Cold CO&apos;, Test.Fuel.Type.Cd=27, Test.Fuel.Type.Description=&apos;Cold CO Premium (Tier 2)&apos;, FuelEcon=21.7),\n",
       " Row(Unnamed: 0=963, Represented.Test.Veh.Make=&apos;AUDI&apos;, Model=&apos;S6&apos;, Vehicle.Type=&apos;Car&apos;, HorsePower=450, Cylinders=8, Tested.Transmission.Type.Code=&apos;SA&apos;, Tested.Transmission.Type=&apos;Semi-Automatic&apos;, Gears=7, Drive.System.Code=&apos;A&apos;, Weight=5000, AxleRatio=3.63, Test.Procedure.Cd=21, Test.Procedure.Description=&apos;Federal fuel 2-day exhaust (w/can load)&apos;, Test.Fuel.Type.Cd=61, Test.Fuel.Type.Description=&apos;Tier 2 Cert Gasoline&apos;, FuelEcon=19.4),\n",
       " Row(Unnamed: 0=964, Represented.Test.Veh.Make=&apos;AUDI&apos;, Model=&apos;S6&apos;, Vehicle.Type=&apos;Car&apos;, HorsePower=450, Cylinders=8, Tested.Transmission.Type.Code=&apos;SA&apos;, Tested.Transmission.Type=&apos;Semi-Automatic&apos;, Gears=7, Drive.System.Code=&apos;A&apos;, Weight=5000, AxleRatio=3.63, Test.Procedure.Cd=11, Test.Procedure.Description=&apos;Cold CO&apos;, Test.Fuel.Type.Cd=27, Test.Fuel.Type.Description=&apos;Cold CO Premium (Tier 2)&apos;, FuelEcon=16.2),\n",
       " Row(Unnamed: 0=965, Represented.Test.Veh.Make=&apos;AUDI&apos;, Model=&apos;S8 Plus&apos;, Vehicle.Type=&apos;Car&apos;, HorsePower=605, Cylinders=8, Tested.Transmission.Type.Code=&apos;SA&apos;, Tested.Transmission.Type=&apos;Semi-Automatic&apos;, Gears=8, Drive.System.Code=&apos;A&apos;, Weight=5000, AxleRatio=3.2, Test.Procedure.Cd=90, Test.Procedure.Description=&apos;US06&apos;, Test.Fuel.Type.Cd=61, Test.Fuel.Type.Description=&apos;Tier 2 Cert Gasoline&apos;, FuelEcon=20.9),\n",
       " Row(Unnamed: 0=966, Represented.Test.Veh.Make=&apos;AUDI&apos;, Model=&apos;S8 Plus&apos;, Vehicle.Type=&apos;Car&apos;, HorsePower=605, Cylinders=8, Tested.Transmission.Type.Code=&apos;SA&apos;, Tested.Transmission.Type=&apos;Semi-Automatic&apos;, Gears=8, Drive.System.Code=&apos;A&apos;, Weight=5000, AxleRatio=3.2, Test.Procedure.Cd=11, Test.Procedure.Description=&apos;Cold CO&apos;, Test.Fuel.Type.Cd=27, Test.Fuel.Type.Description=&apos;Cold CO Premium (Tier 2)&apos;, FuelEcon=15.0),\n",
       " Row(Unnamed: 0=967, Represented.Test.Veh.Make=&apos;AUDI&apos;, Model=&apos;S8 Plus&apos;, Vehicle.Type=&apos;Car&apos;, HorsePower=605, Cylinders=8, Tested.Transmission.Type.Code=&apos;SA&apos;, Tested.Transmission.Type=&apos;Semi-Automatic&apos;, Gears=8, Drive.System.Code=&apos;A&apos;, Weight=5000, AxleRatio=3.2, Test.Procedure.Cd=95, Test.Procedure.Description=&apos;SC03&apos;, Test.Fuel.Type.Cd=61, Test.Fuel.Type.Description=&apos;Tier 2 Cert Gasoline&apos;, FuelEcon=16.6),\n",
       " Row(Unnamed: 0=968, Represented.Test.Veh.Make=&apos;AUDI&apos;, Model=&apos;SQ5&apos;, Vehicle.Type=&apos;Both&apos;, HorsePower=354, Cylinders=6, Tested.Transmission.Type.Code=&apos;SA&apos;, Tested.Transmission.Type=&apos;Semi-Automatic&apos;, Gears=8, Drive.System.Code=&apos;A&apos;, Weight=4750, AxleRatio=3.2, Test.Procedure.Cd=3, Test.Procedure.Description=&apos;HWFE&apos;, Test.Fuel.Type.Cd=61, Test.Fuel.Type.Description=&apos;Tier 2 Cert Gasoline&apos;, FuelEcon=33.0),\n",
       " Row(Unnamed: 0=969, Represented.Test.Veh.Make=&apos;AUDI&apos;, Model=&apos;TT RS&apos;, Vehicle.Type=&apos;Car&apos;, HorsePower=400, Cylinders=5, Tested.Transmission.Type.Code=&apos;AMS&apos;, Tested.Transmission.Type=&apos;Automated Manual- Selectable (e.g. Automated Manual with paddles)&apos;, Gears=7, Drive.System.Code=&apos;A&apos;, Weight=3625, AxleRatio=3.45, Test.Procedure.Cd=95, Test.Procedure.Description=&apos;SC03&apos;, Test.Fuel.Type.Cd=61, Test.Fuel.Type.Description=&apos;Tier 2 Cert Gasoline&apos;, FuelEcon=22.2),\n",
       " Row(Unnamed: 0=970, Represented.Test.Veh.Make=&apos;AUDI&apos;, Model=&apos;TT RS&apos;, Vehicle.Type=&apos;Car&apos;, HorsePower=400, Cylinders=5, Tested.Transmission.Type.Code=&apos;AMS&apos;, Tested.Transmission.Type=&apos;Automated Manual- Selectable (e.g. Automated Manual with paddles)&apos;, Gears=7, Drive.System.Code=&apos;A&apos;, Weight=3625, AxleRatio=3.45, Test.Procedure.Cd=11, Test.Procedure.Description=&apos;Cold CO&apos;, Test.Fuel.Type.Cd=27, Test.Fuel.Type.Description=&apos;Cold CO Premium (Tier 2)&apos;, FuelEcon=19.6),\n",
       " Row(Unnamed: 0=971, Represented.Test.Veh.Make=&apos;AUDI&apos;, Model=&apos;TT RS&apos;, Vehicle.Type=&apos;Car&apos;, HorsePower=400, Cylinders=5, Tested.Transmission.Type.Code=&apos;AMS&apos;, Tested.Transmission.Type=&apos;Automated Manual- Selectable (e.g. Automated Manual with paddles)&apos;, Gears=7, Drive.System.Code=&apos;A&apos;, Weight=3875, AxleRatio=3.45, Test.Procedure.Cd=21, Test.Procedure.Description=&apos;Federal fuel 2-day exhaust (w/can load)&apos;, Test.Fuel.Type.Cd=61, Test.Fuel.Type.Description=&apos;Tier 2 Cert Gasoline&apos;, FuelEcon=23.2),\n",
       " Row(Unnamed: 0=972, Represented.Test.Veh.Make=&apos;AUDI&apos;, Model=&apos;TT RS&apos;, Vehicle.Type=&apos;Car&apos;, HorsePower=400, Cylinders=5, Tested.Transmission.Type.Code=&apos;AMS&apos;, Tested.Transmission.Type=&apos;Automated Manual- Selectable (e.g. Automated Manual with paddles)&apos;, Gears=7, Drive.System.Code=&apos;A&apos;, Weight=3875, AxleRatio=3.45, Test.Procedure.Cd=11, Test.Procedure.Description=&apos;Cold CO&apos;, Test.Fuel.Type.Cd=27, Test.Fuel.Type.Description=&apos;Cold CO Premium (Tier 2)&apos;, FuelEcon=19.4),\n",
       " Row(Unnamed: 0=973, Represented.Test.Veh.Make=&apos;AUDI&apos;, Model=&apos;TTS&apos;, Vehicle.Type=&apos;Car&apos;, HorsePower=292, Cylinders=4, Tested.Transmission.Type.Code=&apos;AMS&apos;, Tested.Transmission.Type=&apos;Automated Manual- Selectable (e.g. Automated Manual with paddles)&apos;, Gears=6, Drive.System.Code=&apos;F&apos;, Weight=3500, AxleRatio=3.44, Test.Procedure.Cd=21, Test.Procedure.Description=&apos;Federal fuel 2-day exhaust (w/can load)&apos;, Test.Fuel.Type.Cd=61, Test.Fuel.Type.Description=&apos;Tier 2 Cert Gasoline&apos;, FuelEcon=28.2),\n",
       " Row(Unnamed: 0=974, Represented.Test.Veh.Make=&apos;AUDI&apos;, Model=&apos;TTS&apos;, Vehicle.Type=&apos;Car&apos;, HorsePower=292, Cylinders=4, Tested.Transmission.Type.Code=&apos;AMS&apos;, Tested.Transmission.Type=&apos;Automated Manual- Selectable (e.g. Automated Manual with paddles)&apos;, Gears=6, Drive.System.Code=&apos;F&apos;, Weight=3500, AxleRatio=3.44, Test.Procedure.Cd=11, Test.Procedure.Description=&apos;Cold CO&apos;, Test.Fuel.Type.Cd=27, Test.Fuel.Type.Description=&apos;Cold CO Premium (Tier 2)&apos;, FuelEcon=23.6),\n",
       " Row(Unnamed: 0=975, Represented.Test.Veh.Make=&apos;BENTLEY&apos;, Model=&apos;Bentayga&apos;, Vehicle.Type=&apos;Truck&apos;, HorsePower=600, Cylinders=12, Tested.Transmission.Type.Code=&apos;SA&apos;, Tested.Transmission.Type=&apos;Semi-Automatic&apos;, Gears=8, Drive.System.Code=&apos;A&apos;, Weight=6000, AxleRatio=2.85, Test.Procedure.Cd=21, Test.Procedure.Description=&apos;Federal fuel 2-day exhaust (w/can load)&apos;, Test.Fuel.Type.Cd=61, Test.Fuel.Type.Description=&apos;Tier 2 Cert Gasoline&apos;, FuelEcon=14.8),\n",
       " Row(Unnamed: 0=976, Represented.Test.Veh.Make=&apos;BENTLEY&apos;, Model=&apos;Bentayga&apos;, Vehicle.Type=&apos;Truck&apos;, HorsePower=600, Cylinders=12, Tested.Transmission.Type.Code=&apos;SA&apos;, Tested.Transmission.Type=&apos;Semi-Automatic&apos;, Gears=8, Drive.System.Code=&apos;A&apos;, Weight=6000, AxleRatio=2.85, Test.Procedure.Cd=11, Test.Procedure.Description=&apos;Cold CO&apos;, Test.Fuel.Type.Cd=27, Test.Fuel.Type.Description=&apos;Cold CO Premium (Tier 2)&apos;, FuelEcon=15.7),\n",
       " Row(Unnamed: 0=977, Represented.Test.Veh.Make=&apos;BENTLEY&apos;, Model=&apos;Continental GT&apos;, Vehicle.Type=&apos;Car&apos;, HorsePower=520, Cylinders=8, Tested.Transmission.Type.Code=&apos;SA&apos;, Tested.Transmission.Type=&apos;Semi-Automatic&apos;, Gears=8, Drive.System.Code=&apos;A&apos;, Weight=6000, AxleRatio=2.85, Test.Procedure.Cd=90, Test.Procedure.Description=&apos;US06&apos;, Test.Fuel.Type.Cd=61, Test.Fuel.Type.Description=&apos;Tier 2 Cert Gasoline&apos;, FuelEcon=19.2),\n",
       " Row(Unnamed: 0=978, Represented.Test.Veh.Make=&apos;BENTLEY&apos;, Model=&apos;Continental GT&apos;, Vehicle.Type=&apos;Car&apos;, HorsePower=520, Cylinders=8, Tested.Transmission.Type.Code=&apos;SA&apos;, Tested.Transmission.Type=&apos;Semi-Automatic&apos;, Gears=8, Drive.System.Code=&apos;A&apos;, Weight=6000, AxleRatio=2.85, Test.Procedure.Cd=11, Test.Procedure.Description=&apos;Cold CO&apos;, Test.Fuel.Type.Cd=27, Test.Fuel.Type.Description=&apos;Cold CO Premium (Tier 2)&apos;, FuelEcon=12.8),\n",
       " Row(Unnamed: 0=979, Represented.Test.Veh.Make=&apos;BENTLEY&apos;, Model=&apos;Continental GT Supersports&apos;, Vehicle.Type=&apos;Car&apos;, HorsePower=700, Cylinders=12, Tested.Transmission.Type.Code=&apos;SA&apos;, Tested.Transmission.Type=&apos;Semi-Automatic&apos;, Gears=8, Drive.System.Code=&apos;A&apos;, Weight=6000, AxleRatio=2.85, Test.Procedure.Cd=95, Test.Procedure.Description=&apos;SC03&apos;, Test.Fuel.Type.Cd=61, Test.Fuel.Type.Description=&apos;Tier 2 Cert Gasoline&apos;, FuelEcon=12.5),\n",
       " Row(Unnamed: 0=980, Represented.Test.Veh.Make=&apos;BENTLEY&apos;, Model=&apos;Continental GT Supersports&apos;, Vehicle.Type=&apos;Car&apos;, HorsePower=700, Cylinders=12, Tested.Transmission.Type.Code=&apos;SA&apos;, Tested.Transmission.Type=&apos;Semi-Automatic&apos;, Gears=8, Drive.System.Code=&apos;A&apos;, Weight=6000, AxleRatio=2.85, Test.Procedure.Cd=11, Test.Procedure.Description=&apos;Cold CO&apos;, Test.Fuel.Type.Cd=27, Test.Fuel.Type.Description=&apos;Cold CO Premium (Tier 2)&apos;, FuelEcon=11.0),\n",
       " Row(Unnamed: 0=981, Represented.Test.Veh.Make=&apos;BENTLEY&apos;, Model=&apos;Mulsanne Speed&apos;, Vehicle.Type=&apos;Car&apos;, HorsePower=530, Cylinders=8, Tested.Transmission.Type.Code=&apos;SA&apos;, Tested.Transmission.Type=&apos;Semi-Automatic&apos;, Gears=8, Drive.System.Code=&apos;R&apos;, Weight=6500, AxleRatio=2.92, Test.Procedure.Cd=21, Test.Procedure.Description=&apos;Federal fuel 2-day exhaust (w/can load)&apos;, Test.Fuel.Type.Cd=61, Test.Fuel.Type.Description=&apos;Tier 2 Cert Gasoline&apos;, FuelEcon=13.8),\n",
       " Row(Unnamed: 0=982, Represented.Test.Veh.Make=&apos;BUGATTI&apos;, Model=&apos;Bugatti Chiron&apos;, Vehicle.Type=&apos;Car&apos;, HorsePower=1500, Cylinders=16, Tested.Transmission.Type.Code=&apos;SA&apos;, Tested.Transmission.Type=&apos;Semi-Automatic&apos;, Gears=7, Drive.System.Code=&apos;A&apos;, Weight=4750, AxleRatio=3.64, Test.Procedure.Cd=21, Test.Procedure.Description=&apos;Federal fuel 2-day exhaust (w/can load)&apos;, Test.Fuel.Type.Cd=61, Test.Fuel.Type.Description=&apos;Tier 2 Cert Gasoline&apos;, FuelEcon=10.4),\n",
       " Row(Unnamed: 0=983, Represented.Test.Veh.Make=&apos;BUGATTI&apos;, Model=&apos;Bugatti Chiron&apos;, Vehicle.Type=&apos;Car&apos;, HorsePower=1500, Cylinders=16, Tested.Transmission.Type.Code=&apos;SA&apos;, Tested.Transmission.Type=&apos;Semi-Automatic&apos;, Gears=7, Drive.System.Code=&apos;A&apos;, Weight=4750, AxleRatio=3.64, Test.Procedure.Cd=11, Test.Procedure.Description=&apos;Cold CO&apos;, Test.Fuel.Type.Cd=27, Test.Fuel.Type.Description=&apos;Cold CO Premium (Tier 2)&apos;, FuelEcon=9.2),\n",
       " Row(Unnamed: 0=984, Represented.Test.Veh.Make=&apos;LAMBORGHINI&apos;, Model=&apos;AVENTADOR&apos;, Vehicle.Type=&apos;Car&apos;, HorsePower=740, Cylinders=12, Tested.Transmission.Type.Code=&apos;SA&apos;, Tested.Transmission.Type=&apos;Semi-Automatic&apos;, Gears=7, Drive.System.Code=&apos;R&apos;, Weight=4250, AxleRatio=2.87, Test.Procedure.Cd=21, Test.Procedure.Description=&apos;Federal fuel 2-day exhaust (w/can load)&apos;, Test.Fuel.Type.Cd=61, Test.Fuel.Type.Description=&apos;Tier 2 Cert Gasoline&apos;, FuelEcon=11.8),\n",
       " Row(Unnamed: 0=985, Represented.Test.Veh.Make=&apos;LAMBORGHINI&apos;, Model=&apos;AVENTADOR&apos;, Vehicle.Type=&apos;Car&apos;, HorsePower=740, Cylinders=12, Tested.Transmission.Type.Code=&apos;SA&apos;, Tested.Transmission.Type=&apos;Semi-Automatic&apos;, Gears=7, Drive.System.Code=&apos;R&apos;, Weight=4250, AxleRatio=2.87, Test.Procedure.Cd=11, Test.Procedure.Description=&apos;Cold CO&apos;, Test.Fuel.Type.Cd=27, Test.Fuel.Type.Description=&apos;Cold CO Premium (Tier 2)&apos;, FuelEcon=10.0),\n",
       " Row(Unnamed: 0=986, Represented.Test.Veh.Make=&apos;LAMBORGHINI&apos;, Model=&apos;AVENTADOR&apos;, Vehicle.Type=&apos;Car&apos;, HorsePower=740, Cylinders=12, Tested.Transmission.Type.Code=&apos;SA&apos;, Tested.Transmission.Type=&apos;Semi-Automatic&apos;, Gears=7, Drive.System.Code=&apos;R&apos;, Weight=4000, AxleRatio=2.87, Test.Procedure.Cd=21, Test.Procedure.Description=&apos;Federal fuel 2-day exhaust (w/can load)&apos;, Test.Fuel.Type.Cd=61, Test.Fuel.Type.Description=&apos;Tier 2 Cert Gasoline&apos;, FuelEcon=11.9),\n",
       " Row(Unnamed: 0=987, Represented.Test.Veh.Make=&apos;LAMBORGHINI&apos;, Model=&apos;Huracan Superleggera&apos;, Vehicle.Type=&apos;Car&apos;, HorsePower=630, Cylinders=10, Tested.Transmission.Type.Code=&apos;AMS&apos;, Tested.Transmission.Type=&apos;Automated Manual- Selectable (e.g. Automated Manual with paddles)&apos;, Gears=7, Drive.System.Code=&apos;A&apos;, Weight=4000, AxleRatio=3.94, Test.Procedure.Cd=21, Test.Procedure.Description=&apos;Federal fuel 2-day exhaust (w/can load)&apos;, Test.Fuel.Type.Cd=61, Test.Fuel.Type.Description=&apos;Tier 2 Cert Gasoline&apos;, FuelEcon=15.8),\n",
       " Row(Unnamed: 0=988, Represented.Test.Veh.Make=&apos;LAMBORGHINI&apos;, Model=&apos;Huracan Superleggera&apos;, Vehicle.Type=&apos;Car&apos;, HorsePower=630, Cylinders=10, Tested.Transmission.Type.Code=&apos;AMS&apos;, Tested.Transmission.Type=&apos;Automated Manual- Selectable (e.g. Automated Manual with paddles)&apos;, Gears=7, Drive.System.Code=&apos;A&apos;, Weight=4000, AxleRatio=3.94, Test.Procedure.Cd=11, Test.Procedure.Description=&apos;Cold CO&apos;, Test.Fuel.Type.Cd=27, Test.Fuel.Type.Description=&apos;Cold CO Premium (Tier 2)&apos;, FuelEcon=13.5),\n",
       " Row(Unnamed: 0=989, Represented.Test.Veh.Make=&apos;LAMBORGHINI&apos;, Model=&apos;Huracan Superleggera&apos;, Vehicle.Type=&apos;Car&apos;, HorsePower=630, Cylinders=10, Tested.Transmission.Type.Code=&apos;AMS&apos;, Tested.Transmission.Type=&apos;Automated Manual- Selectable (e.g. Automated Manual with paddles)&apos;, Gears=7, Drive.System.Code=&apos;A&apos;, Weight=3750, AxleRatio=3.94, Test.Procedure.Cd=21, Test.Procedure.Description=&apos;Federal fuel 2-day exhaust (w/can load)&apos;, Test.Fuel.Type.Cd=61, Test.Fuel.Type.Description=&apos;Tier 2 Cert Gasoline&apos;, FuelEcon=16.0),\n",
       " Row(Unnamed: 0=990, Represented.Test.Veh.Make=&apos;LAMBORGHINI&apos;, Model=&apos;Huracan Superleggera&apos;, Vehicle.Type=&apos;Car&apos;, HorsePower=630, Cylinders=10, Tested.Transmission.Type.Code=&apos;AMS&apos;, Tested.Transmission.Type=&apos;Automated Manual- Selectable (e.g. Automated Manual with paddles)&apos;, Gears=7, Drive.System.Code=&apos;A&apos;, Weight=3750, AxleRatio=3.94, Test.Procedure.Cd=11, Test.Procedure.Description=&apos;Cold CO&apos;, Test.Fuel.Type.Cd=27, Test.Fuel.Type.Description=&apos;Cold CO Premium (Tier 2)&apos;, FuelEcon=13.9),\n",
       " Row(Unnamed: 0=991, Represented.Test.Veh.Make=&apos;VOLKSWAGEN&apos;, Model=&apos;Atlas&apos;, Vehicle.Type=&apos;Truck&apos;, HorsePower=238, Cylinders=4, Tested.Transmission.Type.Code=&apos;SA&apos;, Tested.Transmission.Type=&apos;Semi-Automatic&apos;, Gears=8, Drive.System.Code=&apos;F&apos;, Weight=4500, AxleRatio=3.6, Test.Procedure.Cd=21, Test.Procedure.Description=&apos;Federal fuel 2-day exhaust (w/can load)&apos;, Test.Fuel.Type.Cd=61, Test.Fuel.Type.Description=&apos;Tier 2 Cert Gasoline&apos;, FuelEcon=27.6),\n",
       " Row(Unnamed: 0=992, Represented.Test.Veh.Make=&apos;VOLKSWAGEN&apos;, Model=&apos;Atlas&apos;, Vehicle.Type=&apos;Truck&apos;, HorsePower=280, Cylinders=6, Tested.Transmission.Type.Code=&apos;A&apos;, Tested.Transmission.Type=&apos;Automatic&apos;, Gears=8, Drive.System.Code=&apos;A&apos;, Weight=5000, AxleRatio=3.53, Test.Procedure.Cd=21, Test.Procedure.Description=&apos;Federal fuel 2-day exhaust (w/can load)&apos;, Test.Fuel.Type.Cd=61, Test.Fuel.Type.Description=&apos;Tier 2 Cert Gasoline&apos;, FuelEcon=21.0),\n",
       " Row(Unnamed: 0=993, Represented.Test.Veh.Make=&apos;VOLKSWAGEN&apos;, Model=&apos;Atlas&apos;, Vehicle.Type=&apos;Truck&apos;, HorsePower=280, Cylinders=6, Tested.Transmission.Type.Code=&apos;A&apos;, Tested.Transmission.Type=&apos;Automatic&apos;, Gears=8, Drive.System.Code=&apos;A&apos;, Weight=4750, AxleRatio=3.53, Test.Procedure.Cd=21, Test.Procedure.Description=&apos;Federal fuel 2-day exhaust (w/can load)&apos;, Test.Fuel.Type.Cd=61, Test.Fuel.Type.Description=&apos;Tier 2 Cert Gasoline&apos;, FuelEcon=21.4),\n",
       " Row(Unnamed: 0=994, Represented.Test.Veh.Make=&apos;VOLKSWAGEN&apos;, Model=&apos;Beetle&apos;, Vehicle.Type=&apos;Car&apos;, HorsePower=174, Cylinders=4, Tested.Transmission.Type.Code=&apos;SA&apos;, Tested.Transmission.Type=&apos;Semi-Automatic&apos;, Gears=6, Drive.System.Code=&apos;F&apos;, Weight=3625, AxleRatio=3.23, Test.Procedure.Cd=90, Test.Procedure.Description=&apos;US06&apos;, Test.Fuel.Type.Cd=61, Test.Fuel.Type.Description=&apos;Tier 2 Cert Gasoline&apos;, FuelEcon=29.3),\n",
       " Row(Unnamed: 0=995, Represented.Test.Veh.Make=&apos;VOLKSWAGEN&apos;, Model=&apos;Beetle&apos;, Vehicle.Type=&apos;Car&apos;, HorsePower=174, Cylinders=4, Tested.Transmission.Type.Code=&apos;SA&apos;, Tested.Transmission.Type=&apos;Semi-Automatic&apos;, Gears=6, Drive.System.Code=&apos;F&apos;, Weight=3625, AxleRatio=3.23, Test.Procedure.Cd=11, Test.Procedure.Description=&apos;Cold CO&apos;, Test.Fuel.Type.Cd=27, Test.Fuel.Type.Description=&apos;Cold CO Premium (Tier 2)&apos;, FuelEcon=27.7),\n",
       " Row(Unnamed: 0=996, Represented.Test.Veh.Make=&apos;VOLKSWAGEN&apos;, Model=&apos;Beetle&apos;, Vehicle.Type=&apos;Car&apos;, HorsePower=174, Cylinders=4, Tested.Transmission.Type.Code=&apos;SA&apos;, Tested.Transmission.Type=&apos;Semi-Automatic&apos;, Gears=6, Drive.System.Code=&apos;F&apos;, Weight=3500, AxleRatio=3.23, Test.Procedure.Cd=90, Test.Procedure.Description=&apos;US06&apos;, Test.Fuel.Type.Cd=61, Test.Fuel.Type.Description=&apos;Tier 2 Cert Gasoline&apos;, FuelEcon=29.7),\n",
       " Row(Unnamed: 0=997, Represented.Test.Veh.Make=&apos;VOLKSWAGEN&apos;, Model=&apos;Beetle&apos;, Vehicle.Type=&apos;Car&apos;, HorsePower=174, Cylinders=4, Tested.Transmission.Type.Code=&apos;SA&apos;, Tested.Transmission.Type=&apos;Semi-Automatic&apos;, Gears=6, Drive.System.Code=&apos;F&apos;, Weight=3500, AxleRatio=3.23, Test.Procedure.Cd=11, Test.Procedure.Description=&apos;Cold CO&apos;, Test.Fuel.Type.Cd=27, Test.Fuel.Type.Description=&apos;Cold CO Premium (Tier 2)&apos;, FuelEcon=27.9),\n",
       " Row(Unnamed: 0=998, Represented.Test.Veh.Make=&apos;VOLKSWAGEN&apos;, Model=&apos;Beetle&apos;, Vehicle.Type=&apos;Car&apos;, HorsePower=174, Cylinders=4, Tested.Transmission.Type.Code=&apos;SA&apos;, Tested.Transmission.Type=&apos;Semi-Automatic&apos;, Gears=6, Drive.System.Code=&apos;F&apos;, Weight=3375, AxleRatio=3.23, Test.Procedure.Cd=95, Test.Procedure.Description=&apos;SC03&apos;, Test.Fuel.Type.Cd=61, Test.Fuel.Type.Description=&apos;Tier 2 Cert Gasoline&apos;, FuelEcon=32.5),\n",
       " Row(Unnamed: 0=999, Represented.Test.Veh.Make=&apos;VOLKSWAGEN&apos;, Model=&apos;Beetle&apos;, Vehicle.Type=&apos;Car&apos;, HorsePower=174, Cylinders=4, Tested.Transmission.Type.Code=&apos;SA&apos;, Tested.Transmission.Type=&apos;Semi-Automatic&apos;, Gears=6, Drive.System.Code=&apos;F&apos;, Weight=3375, AxleRatio=3.23, Test.Procedure.Cd=11, Test.Procedure.Description=&apos;Cold CO&apos;, Test.Fuel.Type.Cd=27, Test.Fuel.Type.Description=&apos;Cold CO Premium (Tier 2)&apos;, FuelEcon=27.7),\n",
       " Row(Unnamed: 0=1000, Represented.Test.Veh.Make=&apos;VOLKSWAGEN&apos;, Model=&apos;Beetle&apos;, Vehicle.Type=&apos;Car&apos;, HorsePower=210, Cylinders=4, Tested.Transmission.Type.Code=&apos;AMS&apos;, Tested.Transmission.Type=&apos;Automated Manual- Selectable (e.g. Automated Manual with paddles)&apos;, Gears=6, Drive.System.Code=&apos;F&apos;, Weight=3500, AxleRatio=3.14, Test.Procedure.Cd=3, Test.Procedure.Description=&apos;HWFE&apos;, Test.Fuel.Type.Cd=61, Test.Fuel.Type.Description=&apos;Tier 2 Cert Gasoline&apos;, FuelEcon=47.1),\n",
       " Row(Unnamed: 0=1001, Represented.Test.Veh.Make=&apos;VOLKSWAGEN&apos;, Model=&apos;Golf Alltrack&apos;, Vehicle.Type=&apos;Car&apos;, HorsePower=170, Cylinders=4, Tested.Transmission.Type.Code=&apos;A&apos;, Tested.Transmission.Type=&apos;Automatic&apos;, Gears=6, Drive.System.Code=&apos;A&apos;, Weight=3750, AxleRatio=3.33, Test.Procedure.Cd=3, Test.Procedure.Description=&apos;HWFE&apos;, Test.Fuel.Type.Cd=61, Test.Fuel.Type.Description=&apos;Tier 2 Cert Gasoline&apos;, FuelEcon=41.9),\n",
       " Row(Unnamed: 0=1002, Represented.Test.Veh.Make=&apos;VOLKSWAGEN&apos;, Model=&apos;Golf Alltrack&apos;, Vehicle.Type=&apos;Car&apos;, HorsePower=170, Cylinders=4, Tested.Transmission.Type.Code=&apos;A&apos;, Tested.Transmission.Type=&apos;Automatic&apos;, Gears=6, Drive.System.Code=&apos;A&apos;, Weight=3750, AxleRatio=3.33, Test.Procedure.Cd=11, Test.Procedure.Description=&apos;Cold CO&apos;, Test.Fuel.Type.Cd=27, Test.Fuel.Type.Description=&apos;Cold CO Premium (Tier 2)&apos;, FuelEcon=23.4),\n",
       " Row(Unnamed: 0=1003, Represented.Test.Veh.Make=&apos;VOLKSWAGEN&apos;, Model=&apos;Golf R&apos;, Vehicle.Type=&apos;Car&apos;, HorsePower=292, Cylinders=4, Tested.Transmission.Type.Code=&apos;M&apos;, Tested.Transmission.Type=&apos;Manual&apos;, Gears=6, Drive.System.Code=&apos;A&apos;, Weight=3625, AxleRatio=3.09, Test.Procedure.Cd=90, Test.Procedure.Description=&apos;US06&apos;, Test.Fuel.Type.Cd=61, Test.Fuel.Type.Description=&apos;Tier 2 Cert Gasoline&apos;, FuelEcon=28.3),\n",
       " Row(Unnamed: 0=1004, Represented.Test.Veh.Make=&apos;VOLKSWAGEN&apos;, Model=&apos;Golf R&apos;, Vehicle.Type=&apos;Car&apos;, HorsePower=292, Cylinders=4, Tested.Transmission.Type.Code=&apos;M&apos;, Tested.Transmission.Type=&apos;Manual&apos;, Gears=6, Drive.System.Code=&apos;A&apos;, Weight=3625, AxleRatio=3.09, Test.Procedure.Cd=11, Test.Procedure.Description=&apos;Cold CO&apos;, Test.Fuel.Type.Cd=27, Test.Fuel.Type.Description=&apos;Cold CO Premium (Tier 2)&apos;, FuelEcon=21.9),\n",
       " Row(Unnamed: 0=1005, Represented.Test.Veh.Make=&apos;VOLKSWAGEN&apos;, Model=&apos;Golf R&apos;, Vehicle.Type=&apos;Car&apos;, HorsePower=292, Cylinders=4, Tested.Transmission.Type.Code=&apos;AMS&apos;, Tested.Transmission.Type=&apos;Automated Manual- Selectable (e.g. Automated Manual with paddles)&apos;, Gears=7, Drive.System.Code=&apos;A&apos;, Weight=3750, AxleRatio=3.3, Test.Procedure.Cd=21, Test.Procedure.Description=&apos;Federal fuel 2-day exhaust (w/can load)&apos;, Test.Fuel.Type.Cd=61, Test.Fuel.Type.Description=&apos;Tier 2 Cert Gasoline&apos;, FuelEcon=28.0),\n",
       " Row(Unnamed: 0=1006, Represented.Test.Veh.Make=&apos;VOLKSWAGEN&apos;, Model=&apos;Golf R&apos;, Vehicle.Type=&apos;Car&apos;, HorsePower=292, Cylinders=4, Tested.Transmission.Type.Code=&apos;AMS&apos;, Tested.Transmission.Type=&apos;Automated Manual- Selectable (e.g. Automated Manual with paddles)&apos;, Gears=7, Drive.System.Code=&apos;A&apos;, Weight=3750, AxleRatio=3.3, Test.Procedure.Cd=11, Test.Procedure.Description=&apos;Cold CO&apos;, Test.Fuel.Type.Cd=27, Test.Fuel.Type.Description=&apos;Cold CO Premium (Tier 2)&apos;, FuelEcon=23.8),\n",
       " ...]\n",
       "</div>"
      ]
     },
     "metadata": {},
     "output_type": "display_data"
    }
   ],
   "source": [
    "epaMpg.collect()"
   ]
  },
  {
   "cell_type": "markdown",
   "metadata": {},
   "source": [
    "Get the schema of the datafrmae"
   ]
  },
  {
   "cell_type": "code",
   "execution_count": 79,
   "metadata": {},
   "outputs": [
    {
     "data": {
      "text/html": [
       "<style scoped>\n",
       "  .ansiout {\n",
       "    display: block;\n",
       "    unicode-bidi: embed;\n",
       "    white-space: pre-wrap;\n",
       "    word-wrap: break-word;\n",
       "    word-break: break-all;\n",
       "    font-family: \"Source Code Pro\", \"Menlo\", monospace;;\n",
       "    font-size: 13px;\n",
       "    color: #555;\n",
       "    margin-left: 4px;\n",
       "    line-height: 19px;\n",
       "  }\n",
       "</style>\n",
       "<div class=\"ansiout\">root\n",
       "-- Unnamed: 0: long (nullable = true)\n",
       "-- Represented.Test.Veh.Make: string (nullable = true)\n",
       "-- Model: string (nullable = true)\n",
       "-- Vehicle.Type: string (nullable = true)\n",
       "-- HorsePower: long (nullable = true)\n",
       "-- Cylinders: long (nullable = true)\n",
       "-- Tested.Transmission.Type.Code: string (nullable = true)\n",
       "-- Tested.Transmission.Type: string (nullable = true)\n",
       "-- Gears: long (nullable = true)\n",
       "-- Drive.System.Code: string (nullable = true)\n",
       "-- Weight: long (nullable = true)\n",
       "-- AxleRatio: double (nullable = true)\n",
       "-- Test.Procedure.Cd: long (nullable = true)\n",
       "-- Test.Procedure.Description: string (nullable = true)\n",
       "-- Test.Fuel.Type.Cd: long (nullable = true)\n",
       "-- Test.Fuel.Type.Description: string (nullable = true)\n",
       "-- FuelEcon: double (nullable = true)\n",
       "\n",
       "</div>"
      ]
     },
     "metadata": {},
     "output_type": "display_data"
    }
   ],
   "source": [
    "epaMpg.printSchema()"
   ]
  },
  {
   "cell_type": "markdown",
   "metadata": {},
   "source": [
    "## Spark SQL"
   ]
  },
  {
   "cell_type": "code",
   "execution_count": 81,
   "metadata": {},
   "outputs": [
    {
     "data": {
      "text/html": [
       "<style scoped>\n",
       "  .ansiout {\n",
       "    display: block;\n",
       "    unicode-bidi: embed;\n",
       "    white-space: pre-wrap;\n",
       "    word-wrap: break-word;\n",
       "    word-break: break-all;\n",
       "    font-family: \"Source Code Pro\", \"Menlo\", monospace;;\n",
       "    font-size: 13px;\n",
       "    color: #555;\n",
       "    margin-left: 4px;\n",
       "    line-height: 19px;\n",
       "  }\n",
       "</style>\n",
       "<div class=\"ansiout\">+----------+-------------------------+--------------------+------------+----------+---------+-----------------------------+------------------------+-----+-----------------+------+---------+-----------------+--------------------------+-----------------+--------------------------+--------+\n",
       "Unnamed: 0|Represented.Test.Veh.Make|               Model|Vehicle.Type|HorsePower|Cylinders|Tested.Transmission.Type.Code|Tested.Transmission.Type|Gears|Drive.System.Code|Weight|AxleRatio|Test.Procedure.Cd|Test.Procedure.Description|Test.Fuel.Type.Cd|Test.Fuel.Type.Description|FuelEcon|\n",
       "+----------+-------------------------+--------------------+------------+----------+---------+-----------------------------+------------------------+-----+-----------------+------+---------+-----------------+--------------------------+-----------------+--------------------------+--------+\n",
       "         1|             Aston Martin|            Rapide S|         Car|       552|       12|                           SA|          Semi-Automatic|    8|                R|  4750|     2.73|               21|      Federal fuel 2-da...|               61|      Tier 2 Cert Gasoline|    17.3|\n",
       "         2|             Aston Martin|            Vanquish|         Car|       568|       12|                           SA|          Semi-Automatic|    8|                R|  4500|     2.73|               21|      Federal fuel 2-da...|               61|      Tier 2 Cert Gasoline|    16.5|\n",
       "         3|                  BENTLEY|      Continental GT|         Car|       616|       12|                           SA|          Semi-Automatic|    8|                F|  6000|     2.85|               90|                      US06|               61|      Tier 2 Cert Gasoline|    17.4|\n",
       "         4|                  BENTLEY|      Continental GT|         Car|       616|       12|                           SA|          Semi-Automatic|    8|                F|  6000|     2.85|               11|                   Cold CO|               27|      Cold CO Premium (...|    13.6|\n",
       "         5|                      BMW|    230i Convertible|         Car|       248|        4|                           SA|          Semi-Automatic|    8|                R|  4000|     2.81|                3|                      HWFE|               61|      Tier 2 Cert Gasoline|    45.8|\n",
       "         6|                      BMW|          230i Coupe|         Car|       248|        4|                            M|                  Manual|    6|                R|  3625|     3.91|               21|      Federal fuel 2-da...|               61|      Tier 2 Cert Gasoline|    26.4|\n",
       "         7|                      BMW|          230i Coupe|         Car|       248|        4|                           SA|          Semi-Automatic|    8|                R|  3625|     2.81|                3|                      HWFE|               61|      Tier 2 Cert Gasoline|    50.6|\n",
       "         8|                      BMW|230i xDrive Conve...|         Car|       248|        4|                           SA|          Semi-Automatic|    8|                R|  4000|     2.81|               31|      Federal fuel 3-da...|               61|      Tier 2 Cert Gasoline|    29.6|\n",
       "         9|                      BMW|   230i xDrive Coupe|         Car|       248|        4|                           SA|          Semi-Automatic|    8|                R|  3750|     2.81|               21|      Federal fuel 2-da...|               61|      Tier 2 Cert Gasoline|    30.3|\n",
       "        10|                      BMW|                320i|        Both|       181|        4|                            A|               Automatic|    8|                R|  3625|      3.2|               31|      Federal fuel 3-da...|               61|      Tier 2 Cert Gasoline|    30.4|\n",
       "        11|                      BMW|                320i|        Both|       180|        4|                            M|                  Manual|    6|                R|  3625|     3.08|               31|      Federal fuel 3-da...|               61|      Tier 2 Cert Gasoline|    29.5|\n",
       "        12|                      BMW|         320i xDrive|        Both|       181|        4|                            A|               Automatic|    8|                R|  3750|     3.15|               31|      Federal fuel 3-da...|               61|      Tier 2 Cert Gasoline|    29.9|\n",
       "        13|                      BMW|                328d|         Car|       183|        4|                           SA|          Semi-Automatic|    8|                R|  3750|     2.81|                2|      CVS 75 and later ...|               19|      Federal Cert Dies...|    42.2|\n",
       "        14|                      BMW|         328d xDrive|         Car|       181|        4|                           SA|          Semi-Automatic|    8|                R|  4000|     2.81|                2|      CVS 75 and later ...|               19|      Federal Cert Dies...|    41.2|\n",
       "        15|                      BMW|328d xDrive Sport...|         Car|       181|        4|                           SA|          Semi-Automatic|    8|                R|  4250|     2.81|                3|                      HWFE|               19|      Federal Cert Dies...|    57.2|\n",
       "        16|                      BMW|                330e|         Car|       180|        4|                           SA|          Semi-Automatic|    8|                R|  4250|     2.93|               31|      Federal fuel 3-da...|               61|      Tier 2 Cert Gasoline|    35.6|\n",
       "        17|                      BMW|                330i|         Car|       248|        4|                           SA|          Semi-Automatic|    8|                R|  3875|     2.81|               31|      Federal fuel 3-da...|               61|      Tier 2 Cert Gasoline|    30.8|\n",
       "        18|                      BMW|                330i|         Car|       248|        4|                            M|                  Manual|    6|                R|  3750|     3.91|               31|      Federal fuel 3-da...|               61|      Tier 2 Cert Gasoline|    26.7|\n",
       "        19|                      BMW|         330i xDrive|         Car|       248|        4|                           SA|          Semi-Automatic|    8|                R|  4000|     2.81|               31|      Federal fuel 3-da...|               61|      Tier 2 Cert Gasoline|    29.7|\n",
       "        20|                      BMW|330i xDrive Gran ...|         Car|       248|        4|                           SA|          Semi-Automatic|    8|                R|  4250|     2.93|               31|      Federal fuel 3-da...|               61|      Tier 2 Cert Gasoline|    29.3|\n",
       "+----------+-------------------------+--------------------+------------+----------+---------+-----------------------------+------------------------+-----+-----------------+------+---------+-----------------+--------------------------+-----------------+--------------------------+--------+\n",
       "only showing top 20 rows\n",
       "\n",
       "</div>"
      ]
     },
     "metadata": {},
     "output_type": "display_data"
    }
   ],
   "source": [
    "epaMpg.show()"
   ]
  },
  {
   "cell_type": "markdown",
   "metadata": {},
   "source": [
    "#### Using Spark SQL, select and dispaly \n",
    "\n",
    "Copy the following query, modify it and execute"
   ]
  },
  {
   "cell_type": "code",
   "execution_count": 83,
   "metadata": {},
   "outputs": [
    {
     "data": {
      "text/html": [
       "<style scoped>\n",
       "  .ansiout {\n",
       "    display: block;\n",
       "    unicode-bidi: embed;\n",
       "    white-space: pre-wrap;\n",
       "    word-wrap: break-word;\n",
       "    word-break: break-all;\n",
       "    font-family: \"Source Code Pro\", \"Menlo\", monospace;;\n",
       "    font-size: 13px;\n",
       "    color: #555;\n",
       "    margin-left: 4px;\n",
       "    line-height: 19px;\n",
       "  }\n",
       "</style>\n",
       "<div class=\"ansiout\">+---+-------------------------+--------------------+------------+----------+---------+-----------------------------+------------------------+-----+-----------------+------+---------+-----------------+--------------------------+-----------------+--------------------------+--------+\n",
       "_c0|Represented.Test.Veh.Make|               Model|Vehicle.Type|HorsePower|Cylinders|Tested.Transmission.Type.Code|Tested.Transmission.Type|Gears|Drive.System.Code|Weight|AxleRatio|Test.Procedure.Cd|Test.Procedure.Description|Test.Fuel.Type.Cd|Test.Fuel.Type.Description|FuelEcon|\n",
       "+---+-------------------------+--------------------+------------+----------+---------+-----------------------------+------------------------+-----+-----------------+------+---------+-----------------+--------------------------+-----------------+--------------------------+--------+\n",
       "  1|             Aston Martin|            Rapide S|         Car|       552|       12|                           SA|          Semi-Automatic|    8|                R|  4750|     2.73|               21|      Federal fuel 2-da...|               61|      Tier 2 Cert Gasoline|    17.3|\n",
       "  2|             Aston Martin|            Vanquish|         Car|       568|       12|                           SA|          Semi-Automatic|    8|                R|  4500|     2.73|               21|      Federal fuel 2-da...|               61|      Tier 2 Cert Gasoline|    16.5|\n",
       "  3|                  BENTLEY|      Continental GT|         Car|       616|       12|                           SA|          Semi-Automatic|    8|                F|  6000|     2.85|               90|                      US06|               61|      Tier 2 Cert Gasoline|    17.4|\n",
       "  4|                  BENTLEY|      Continental GT|         Car|       616|       12|                           SA|          Semi-Automatic|    8|                F|  6000|     2.85|               11|                   Cold CO|               27|      Cold CO Premium (...|    13.6|\n",
       "  5|                      BMW|    230i Convertible|         Car|       248|        4|                           SA|          Semi-Automatic|    8|                R|  4000|     2.81|                3|                      HWFE|               61|      Tier 2 Cert Gasoline|    45.8|\n",
       "  6|                      BMW|          230i Coupe|         Car|       248|        4|                            M|                  Manual|    6|                R|  3625|     3.91|               21|      Federal fuel 2-da...|               61|      Tier 2 Cert Gasoline|    26.4|\n",
       "  7|                      BMW|          230i Coupe|         Car|       248|        4|                           SA|          Semi-Automatic|    8|                R|  3625|     2.81|                3|                      HWFE|               61|      Tier 2 Cert Gasoline|    50.6|\n",
       "  8|                      BMW|230i xDrive Conve...|         Car|       248|        4|                           SA|          Semi-Automatic|    8|                R|  4000|     2.81|               31|      Federal fuel 3-da...|               61|      Tier 2 Cert Gasoline|    29.6|\n",
       "  9|                      BMW|   230i xDrive Coupe|         Car|       248|        4|                           SA|          Semi-Automatic|    8|                R|  3750|     2.81|               21|      Federal fuel 2-da...|               61|      Tier 2 Cert Gasoline|    30.3|\n",
       " 10|                      BMW|                320i|        Both|       181|        4|                            A|               Automatic|    8|                R|  3625|      3.2|               31|      Federal fuel 3-da...|               61|      Tier 2 Cert Gasoline|    30.4|\n",
       " 11|                      BMW|                320i|        Both|       180|        4|                            M|                  Manual|    6|                R|  3625|     3.08|               31|      Federal fuel 3-da...|               61|      Tier 2 Cert Gasoline|    29.5|\n",
       " 12|                      BMW|         320i xDrive|        Both|       181|        4|                            A|               Automatic|    8|                R|  3750|     3.15|               31|      Federal fuel 3-da...|               61|      Tier 2 Cert Gasoline|    29.9|\n",
       " 13|                      BMW|                328d|         Car|       183|        4|                           SA|          Semi-Automatic|    8|                R|  3750|     2.81|                2|      CVS 75 and later ...|               19|      Federal Cert Dies...|    42.2|\n",
       " 14|                      BMW|         328d xDrive|         Car|       181|        4|                           SA|          Semi-Automatic|    8|                R|  4000|     2.81|                2|      CVS 75 and later ...|               19|      Federal Cert Dies...|    41.2|\n",
       " 15|                      BMW|328d xDrive Sport...|         Car|       181|        4|                           SA|          Semi-Automatic|    8|                R|  4250|     2.81|                3|                      HWFE|               19|      Federal Cert Dies...|    57.2|\n",
       " 16|                      BMW|                330e|         Car|       180|        4|                           SA|          Semi-Automatic|    8|                R|  4250|     2.93|               31|      Federal fuel 3-da...|               61|      Tier 2 Cert Gasoline|    35.6|\n",
       " 17|                      BMW|                330i|         Car|       248|        4|                           SA|          Semi-Automatic|    8|                R|  3875|     2.81|               31|      Federal fuel 3-da...|               61|      Tier 2 Cert Gasoline|    30.8|\n",
       " 18|                      BMW|                330i|         Car|       248|        4|                            M|                  Manual|    6|                R|  3750|     3.91|               31|      Federal fuel 3-da...|               61|      Tier 2 Cert Gasoline|    26.7|\n",
       " 19|                      BMW|         330i xDrive|         Car|       248|        4|                           SA|          Semi-Automatic|    8|                R|  4000|     2.81|               31|      Federal fuel 3-da...|               61|      Tier 2 Cert Gasoline|    29.7|\n",
       " 20|                      BMW|330i xDrive Gran ...|         Car|       248|        4|                           SA|          Semi-Automatic|    8|                R|  4250|     2.93|               31|      Federal fuel 3-da...|               61|      Tier 2 Cert Gasoline|    29.3|\n",
       "+---+-------------------------+--------------------+------------+----------+---------+-----------------------------+------------------------+-----+-----------------+------+---------+-----------------+--------------------------+-----------------+--------------------------+--------+\n",
       "only showing top 20 rows\n",
       "\n",
       "</div>"
      ]
     },
     "metadata": {},
     "output_type": "display_data"
    }
   ],
   "source": [
    "spark.sql(\"SELECT  FROM epaMpg\").show()"
   ]
  },
  {
   "cell_type": "markdown",
   "metadata": {},
   "source": [
    "#### Using Spark SQL, select and dispaly \n",
    "\n",
    "Copy the following query, modify it and execute"
   ]
  },
  {
   "cell_type": "code",
   "execution_count": 85,
   "metadata": {},
   "outputs": [
    {
     "data": {
      "text/html": [
       "<style scoped>\n",
       "  .ansiout {\n",
       "    display: block;\n",
       "    unicode-bidi: embed;\n",
       "    white-space: pre-wrap;\n",
       "    word-wrap: break-word;\n",
       "    word-break: break-all;\n",
       "    font-family: \"Source Code Pro\", \"Menlo\", monospace;;\n",
       "    font-size: 13px;\n",
       "    color: #555;\n",
       "    margin-left: 4px;\n",
       "    line-height: 19px;\n",
       "  }\n",
       "</style>\n",
       "<div class=\"ansiout\">+-------------------------+--------------------+------------+----------+---------+-----+------+--------+--------------------------+\n",
       "Represented.Test.Veh.Make|               Model|Vehicle.Type|HorsePower|Cylinders|Gears|Weight|FuelEcon|Test.Fuel.Type.Description|\n",
       "+-------------------------+--------------------+------------+----------+---------+-----+------+--------+--------------------------+\n",
       "             Aston Martin|            Rapide S|         Car|       552|       12|    8|  4750|    17.3|      Tier 2 Cert Gasoline|\n",
       "             Aston Martin|            Vanquish|         Car|       568|       12|    8|  4500|    16.5|      Tier 2 Cert Gasoline|\n",
       "                  BENTLEY|      Continental GT|         Car|       616|       12|    8|  6000|    17.4|      Tier 2 Cert Gasoline|\n",
       "                  BENTLEY|      Continental GT|         Car|       616|       12|    8|  6000|    13.6|      Cold CO Premium (...|\n",
       "                      BMW|    230i Convertible|         Car|       248|        4|    8|  4000|    45.8|      Tier 2 Cert Gasoline|\n",
       "                      BMW|          230i Coupe|         Car|       248|        4|    6|  3625|    26.4|      Tier 2 Cert Gasoline|\n",
       "                      BMW|          230i Coupe|         Car|       248|        4|    8|  3625|    50.6|      Tier 2 Cert Gasoline|\n",
       "                      BMW|230i xDrive Conve...|         Car|       248|        4|    8|  4000|    29.6|      Tier 2 Cert Gasoline|\n",
       "                      BMW|   230i xDrive Coupe|         Car|       248|        4|    8|  3750|    30.3|      Tier 2 Cert Gasoline|\n",
       "                      BMW|                320i|        Both|       181|        4|    8|  3625|    30.4|      Tier 2 Cert Gasoline|\n",
       "                      BMW|                320i|        Both|       180|        4|    6|  3625|    29.5|      Tier 2 Cert Gasoline|\n",
       "                      BMW|         320i xDrive|        Both|       181|        4|    8|  3750|    29.9|      Tier 2 Cert Gasoline|\n",
       "                      BMW|                328d|         Car|       183|        4|    8|  3750|    42.2|      Federal Cert Dies...|\n",
       "                      BMW|         328d xDrive|         Car|       181|        4|    8|  4000|    41.2|      Federal Cert Dies...|\n",
       "                      BMW|328d xDrive Sport...|         Car|       181|        4|    8|  4250|    57.2|      Federal Cert Dies...|\n",
       "                      BMW|                330e|         Car|       180|        4|    8|  4250|    35.6|      Tier 2 Cert Gasoline|\n",
       "                      BMW|                330i|         Car|       248|        4|    8|  3875|    30.8|      Tier 2 Cert Gasoline|\n",
       "                      BMW|                330i|         Car|       248|        4|    6|  3750|    26.7|      Tier 2 Cert Gasoline|\n",
       "                      BMW|         330i xDrive|         Car|       248|        4|    8|  4000|    29.7|      Tier 2 Cert Gasoline|\n",
       "                      BMW|330i xDrive Gran ...|         Car|       248|        4|    8|  4250|    29.3|      Tier 2 Cert Gasoline|\n",
       "                      BMW|330i xDrive Sport...|         Car|       248|        4|    8|  4250|    28.6|      Tier 2 Cert Gasoline|\n",
       "                      BMW|                340i|         Car|       320|        6|    8|  4000|    29.0|      Tier 2 Cert Gasoline|\n",
       "                      BMW|                340i|         Car|       320|        6|    6|  4000|    41.2|      Tier 2 Cert Gasoline|\n",
       "                      BMW|         340i xDrive|         Car|       320|        6|    8|  4000|    29.2|      Tier 2 Cert Gasoline|\n",
       "                      BMW|         340i xDrive|         Car|       320|        6|    6|  4000|    24.7|      Tier 2 Cert Gasoline|\n",
       "                      BMW|340i xDrive Gran ...|         Car|       322|        6|    8|  4500|    27.4|      Tier 2 Cert Gasoline|\n",
       "                      BMW|    430i Convertible|         Car|       248|        4|    8|  4250|    30.2|      Tier 2 Cert Gasoline|\n",
       "                      BMW|          430i Coupe|         Car|       248|        4|    8|  3875|    30.7|      Tier 2 Cert Gasoline|\n",
       "                      BMW|          430i Coupe|         Car|       248|        4|    6|  3875|    26.6|      Tier 2 Cert Gasoline|\n",
       "                      BMW|     430i Gran Coupe|         Car|       248|        4|    8|  4000|    30.0|      Tier 2 Cert Gasoline|\n",
       "+-------------------------+--------------------+------------+----------+---------+-----+------+--------+--------------------------+\n",
       "only showing top 30 rows\n",
       "\n",
       "</div>"
      ]
     },
     "metadata": {},
     "output_type": "display_data"
    }
   ],
   "source": [
    "spark.sql(\"SELECT `Represented.Test.Veh.Make`, Model, `Vehicle.Type`, HorsePower, Cylinders, Gears, Weight, FuelEcon,`Test.Fuel.Type.Description` FROM epaMpg\").show(30)"
   ]
  },
  {
   "cell_type": "markdown",
   "metadata": {},
   "source": [
    "#### Using Spark SQL, select, aggregate and dispaly \n",
    "\n",
    "Copy the following query, modify it and execute"
   ]
  },
  {
   "cell_type": "code",
   "execution_count": 87,
   "metadata": {},
   "outputs": [
    {
     "data": {
      "text/html": [
       "<style scoped>\n",
       "  .ansiout {\n",
       "    display: block;\n",
       "    unicode-bidi: embed;\n",
       "    white-space: pre-wrap;\n",
       "    word-wrap: break-word;\n",
       "    word-break: break-all;\n",
       "    font-family: \"Source Code Pro\", \"Menlo\", monospace;;\n",
       "    font-size: 13px;\n",
       "    color: #555;\n",
       "    margin-left: 4px;\n",
       "    line-height: 19px;\n",
       "  }\n",
       "</style>\n",
       "<div class=\"ansiout\">+-------------------------+--------+\n",
       "Represented.Test.Veh.Make|count(1)|\n",
       "+-------------------------+--------+\n",
       "                      BMW|      85|\n",
       "                CHEVROLET|      78|\n",
       "                     AUDI|      74|\n",
       "                     Ford|      66|\n",
       "            Mercedes-Benz|      64|\n",
       "                    HONDA|      53|\n",
       "                  Porsche|      48|\n",
       "                   TOYOTA|      46|\n",
       "                   NISSAN|      46|\n",
       "                     Mini|      35|\n",
       "                  Hyundai|      34|\n",
       "                      Kia|      33|\n",
       "               VOLKSWAGEN|      31|\n",
       "                 INFINITI|      28|\n",
       "                 CADILLAC|      24|\n",
       "                     Jeep|      22|\n",
       "                   SUBARU|      22|\n",
       "                    LEXUS|      22|\n",
       "                    Volvo|      19|\n",
       "                    Dodge|      17|\n",
       "                   Jaguar|      17|\n",
       "                      KIA|      16|\n",
       "                  Lincoln|      15|\n",
       "                      GMC|      15|\n",
       "                    BUICK|      15|\n",
       "                  HYUNDAI|      14|\n",
       "                    MAZDA|      11|\n",
       "              LAMBORGHINI|      10|\n",
       "                 MASERATI|      10|\n",
       "                  BENTLEY|       9|\n",
       "+-------------------------+--------+\n",
       "only showing top 30 rows\n",
       "\n",
       "</div>"
      ]
     },
     "metadata": {},
     "output_type": "display_data"
    }
   ],
   "source": [
    "spark.sql(\"SELECT `Represented.Test.Veh.Make`, count(*) FROM epaMpg group by `Represented.Test.Veh.Make` order by count(*) desc\").show(30)"
   ]
  },
  {
   "cell_type": "markdown",
   "metadata": {},
   "source": [
    "#### Using Spark SQL, perform basic statistics on dataset and dispaly \n",
    "\n",
    "Copy the following query, modify it and execute"
   ]
  },
  {
   "cell_type": "code",
   "execution_count": 89,
   "metadata": {},
   "outputs": [
    {
     "data": {
      "text/html": [
       "<style scoped>\n",
       "  .ansiout {\n",
       "    display: block;\n",
       "    unicode-bidi: embed;\n",
       "    white-space: pre-wrap;\n",
       "    word-wrap: break-word;\n",
       "    word-break: break-all;\n",
       "    font-family: \"Source Code Pro\", \"Menlo\", monospace;;\n",
       "    font-size: 13px;\n",
       "    color: #555;\n",
       "    margin-left: 4px;\n",
       "    line-height: 19px;\n",
       "  }\n",
       "</style>\n",
       "<div class=\"ansiout\">+-------+------------------+------------------+-----------------+------------------+------------------------+\n",
       "summary|          FuelEcon|        HorsePower|           Weight|             Gears|Tested.Transmission.Type|\n",
       "+-------+------------------+------------------+-----------------+------------------+------------------------+\n",
       "  count|              1034|              1034|             1034|              1034|                    1034|\n",
       "   mean|28.216537717601554|291.82495164410057|4191.852030947775| 6.509671179883946|                    null|\n",
       " stddev| 9.496232870303718|144.29493203734742|787.8214341838334|1.9928243220390307|                    null|\n",
       "    min|               9.2|                72|             2375|                 1|        Automated Manual|\n",
       "    max|              71.6|              1500|             6500|                10|          Semi-Automatic|\n",
       "+-------+------------------+------------------+-----------------+------------------+------------------------+\n",
       "\n",
       "</div>"
      ]
     },
     "metadata": {},
     "output_type": "display_data"
    }
   ],
   "source": [
    "epaMpg.select(\"FuelEcon\", \"HorsePower\", \"Weight\", \"Gears\",\"`Tested.Transmission.Type`\").describe().show()"
   ]
  }
 ],
 "metadata": {
  "kernelspec": {
   "display_name": "Python 3",
   "language": "python",
   "name": "python3"
  },
  "language_info": {
   "codemirror_mode": {
    "name": "ipython",
    "version": 3
   },
   "file_extension": ".py",
   "mimetype": "text/x-python",
   "name": "python",
   "nbconvert_exporter": "python",
   "pygments_lexer": "ipython3",
   "version": "3.6.4"
  },
  "name": "Lab Python Pt 1",
  "notebookId": 708371272747119
 },
 "nbformat": 4,
 "nbformat_minor": 1
}
