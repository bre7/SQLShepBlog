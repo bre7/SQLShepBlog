{
 "cells": [
  {
   "cell_type": "code",
   "execution_count": 1,
   "metadata": {},
   "outputs": [],
   "source": [
    "import os\n",
    "\n",
    "os.chdir('/Users/Shep/Kaggle/NYC-Taxi/cypy')\n",
    "import distance_cy\n",
    "from math import sin, cos, sqrt, atan2, radians"
   ]
  },
  {
   "cell_type": "code",
   "execution_count": 2,
   "metadata": {},
   "outputs": [
    {
     "data": {
      "text/plain": [
       "10.65500288474943"
      ]
     },
     "execution_count": 2,
     "metadata": {},
     "output_type": "execute_result"
    }
   ],
   "source": [
    "#find_distance (lat1Pickup= 40.7686,lon1Pickup=-73.8631,lat2Drop=40.7362,lon2Drop=-73.9821)\n",
    "\n",
    "distance_cy.find_distance(lat1Pickup= 40.7686,lon1Pickup=-73.8631,lat2Drop=40.7362,lon2Drop=-73.9821)\n"
   ]
  },
  {
   "cell_type": "code",
   "execution_count": 3,
   "metadata": {},
   "outputs": [
    {
     "name": "stdout",
     "output_type": "stream",
     "text": [
      "10.655002884748662\n"
     ]
    }
   ],
   "source": [
    "def find_distancePy (lat1Pickup,lon1Pickup,lat2Drop,lon2Drop):\n",
    "# approximate radius of earth in km\n",
    "    R = 6373.0\n",
    "\n",
    "    lat1Pickup = radians(lat1Pickup)\n",
    "    lon1Pickup = radians(lon1Pickup)\n",
    "    lat2Drop = radians(lat2Drop)\n",
    "    lon2Drop = radians(lon2Drop)\n",
    "\n",
    "    \n",
    "    dlon = lon2Drop - lon1Pickup\n",
    "    dlat = lat2Drop - lat1Pickup\n",
    "\n",
    "    a = sin(dlat / 2)**2 + cos(lat1Pickup) * cos(lat2Drop) * sin(dlon / 2)**2\n",
    "    c = 2 * atan2(sqrt(a), sqrt(1 - a))\n",
    "\n",
    "    distance = R * c\n",
    "    \n",
    "    return distance \n",
    "#print(\"Result:\", distance)\n",
    "#print(\"Should be:\", 278.546, \"km\")\n",
    "\n",
    "print(find_distancePy (lat1Pickup= 40.7686,lon1Pickup=-73.8631,lat2Drop=40.7362,lon2Drop=-73.9821))"
   ]
  },
  {
   "cell_type": "code",
   "execution_count": null,
   "metadata": {},
   "outputs": [],
   "source": []
  }
 ],
 "metadata": {
  "kernelspec": {
   "display_name": "Python 3",
   "language": "python",
   "name": "python3"
  },
  "language_info": {
   "codemirror_mode": {
    "name": "ipython",
    "version": 3
   },
   "file_extension": ".py",
   "mimetype": "text/x-python",
   "name": "python",
   "nbconvert_exporter": "python",
   "pygments_lexer": "ipython3",
   "version": "3.6.4"
  }
 },
 "nbformat": 4,
 "nbformat_minor": 2
}
